{
 "cells": [
  {
   "cell_type": "markdown",
   "metadata": {
    "collapsed": false
   },
   "source": [
    "## DTMF Project Part 3: Decoding single digit DTMF sound files from your data base"
   ]
  },
  {
   "cell_type": "code",
   "execution_count": 2,
   "metadata": {
    "collapsed": false
   },
   "outputs": [
    {
     "output_type": "error",
     "ename": "ModuleNotFoundError",
     "evalue": "No module named 'pandas'",
     "traceback": [
      "\u001b[1;31m---------------------------------------------------------------------------\u001b[0m",
      "\u001b[1;31mModuleNotFoundError\u001b[0m                       Traceback (most recent call last)",
      "\u001b[1;32m~\\AppData\\Local\\Temp/ipykernel_18224/3769328691.py\u001b[0m in \u001b[0;36m<module>\u001b[1;34m\u001b[0m\n\u001b[0;32m      1\u001b[0m \u001b[1;31m# Import libraries here\u001b[0m\u001b[1;33m\u001b[0m\u001b[1;33m\u001b[0m\u001b[1;33m\u001b[0m\u001b[0m\n\u001b[1;32m----> 2\u001b[1;33m \u001b[1;32mimport\u001b[0m \u001b[0mpandas\u001b[0m \u001b[1;32mas\u001b[0m \u001b[0mpd\u001b[0m\u001b[1;33m\u001b[0m\u001b[1;33m\u001b[0m\u001b[0m\n\u001b[0m\u001b[0;32m      3\u001b[0m \u001b[1;32mimport\u001b[0m \u001b[0mnumpy\u001b[0m \u001b[1;32mas\u001b[0m \u001b[0mnp\u001b[0m\u001b[1;33m\u001b[0m\u001b[1;33m\u001b[0m\u001b[0m\n\u001b[0;32m      4\u001b[0m \u001b[1;32mimport\u001b[0m \u001b[0mmatplotlib\u001b[0m\u001b[1;33m.\u001b[0m\u001b[0mpyplot\u001b[0m \u001b[1;32mas\u001b[0m \u001b[0mplt\u001b[0m\u001b[1;33m\u001b[0m\u001b[1;33m\u001b[0m\u001b[0m\n\u001b[0;32m      5\u001b[0m \u001b[1;32mimport\u001b[0m \u001b[0mmath\u001b[0m\u001b[1;33m\u001b[0m\u001b[1;33m\u001b[0m\u001b[0m\n",
      "\u001b[1;31mModuleNotFoundError\u001b[0m: No module named 'pandas'"
     ]
    }
   ],
   "source": [
    "# Import libraries here\n",
    "import pandas as pd\n",
    "import numpy as np\n",
    "import matplotlib.pyplot as plt\n",
    "import math\n",
    "from scipy.io import wavfile\n"
   ]
  },
  {
   "source": [
    "**IMPORTANT NOTE: THE CSV FILE YOU HAVE FROM OUT PART TWO DOESN'T WORK WITH PART 3 SINCE IT WAS MESSED UP, THE ATTACHED SignalDataframe.csv IS THE CORRECT FILE. IT IS THE FILE I TURNED IN WITH THIS PART**"
   ],
   "cell_type": "markdown",
   "metadata": {}
  },
  {
   "cell_type": "markdown",
   "metadata": {
    "collapsed": false
   },
   "source": [
    "### Objective\n",
    "In the second part of the project you created a data base consisting of 10000 samples of single digit signals. In this part, your task is to decode the signals, i.e. recovering the digit (or *, #) that it represents.\n",
    "\n",
    "Remember: You need to provide references for all sources that you use."
   ]
  },
  {
   "cell_type": "markdown",
   "metadata": {
    "collapsed": false
   },
   "source": [
    "### Tasks (30 points)"
   ]
  },
  {
   "cell_type": "markdown",
   "metadata": {
    "collapsed": false
   },
   "source": [
    "#### Task-1 (5 points)\n",
    "Read in your dataset. From the dataset select a single signal and graph it for the duration of 10 milliseconds.\n"
   ]
  },
  {
   "cell_type": "code",
   "execution_count": 4,
   "metadata": {},
   "outputs": [
    {
     "output_type": "execute_result",
     "data": {
      "text/plain": [
       "  Key  Frequency 1  Frequency 2  Phase Shift 1  Phase Shift 2\n",
       "0   1         1209          697       4.247433       0.012566\n",
       "1   3         1477          697       0.911062       3.625398\n",
       "2   7         1209          852       2.730044       5.783672\n",
       "3   4         1209          770       2.305929       0.760265\n",
       "4   #         1477          941       2.560398       4.329115"
      ],
      "text/html": "<div>\n<style scoped>\n    .dataframe tbody tr th:only-of-type {\n        vertical-align: middle;\n    }\n\n    .dataframe tbody tr th {\n        vertical-align: top;\n    }\n\n    .dataframe thead th {\n        text-align: right;\n    }\n</style>\n<table border=\"1\" class=\"dataframe\">\n  <thead>\n    <tr style=\"text-align: right;\">\n      <th></th>\n      <th>Key</th>\n      <th>Frequency 1</th>\n      <th>Frequency 2</th>\n      <th>Phase Shift 1</th>\n      <th>Phase Shift 2</th>\n    </tr>\n  </thead>\n  <tbody>\n    <tr>\n      <th>0</th>\n      <td>1</td>\n      <td>1209</td>\n      <td>697</td>\n      <td>4.247433</td>\n      <td>0.012566</td>\n    </tr>\n    <tr>\n      <th>1</th>\n      <td>3</td>\n      <td>1477</td>\n      <td>697</td>\n      <td>0.911062</td>\n      <td>3.625398</td>\n    </tr>\n    <tr>\n      <th>2</th>\n      <td>7</td>\n      <td>1209</td>\n      <td>852</td>\n      <td>2.730044</td>\n      <td>5.783672</td>\n    </tr>\n    <tr>\n      <th>3</th>\n      <td>4</td>\n      <td>1209</td>\n      <td>770</td>\n      <td>2.305929</td>\n      <td>0.760265</td>\n    </tr>\n    <tr>\n      <th>4</th>\n      <td>#</td>\n      <td>1477</td>\n      <td>941</td>\n      <td>2.560398</td>\n      <td>4.329115</td>\n    </tr>\n  </tbody>\n</table>\n</div>"
     },
     "metadata": {},
     "execution_count": 4
    }
   ],
   "source": [
    "sd = pd.read_csv('SignalDataframe.csv') #Our csv file from part two didn't actually work so we had to make a new one, where we saved the variables needed to create the frequency and then used a fucntion to return the actual frequency. We did this because saving an 8000 float point long list every row for 10000 rows would create a very large file. Additionally you cannot save lists as csv files since the list has commas in it.\n",
    "sd.head()"
   ]
  },
  {
   "cell_type": "code",
   "execution_count": 5,
   "metadata": {
    "collapsed": false
   },
   "outputs": [],
   "source": [
    "A = .4\n",
    "fs = 8000\n",
    "B = 16\n",
    "t = np.arange(0, 1, 1/fs)\n",
    "def FrequencyMaker(row):\n",
    "    y = (A * np.cos(2*np.pi*sd['Frequency 1'][row]*t + sd['Phase Shift 1'][row])) + (A*np.cos(2*np.pi*sd['Frequency 2'][row]*t + sd['Phase Shift 2'][row]))\n",
    "    yq = (2**(B-1))*y\n",
    "    return(yq)"
   ]
  },
  {
   "cell_type": "code",
   "execution_count": 6,
   "metadata": {},
   "outputs": [],
   "source": [
    "#Since being able to take the frequencies out of the dataframe would make it very easy to determine the original key pressed, We will create a list that contains all of the frequencies, and use that as if it were the data from the dataframe.\n",
    "Signal_Database = []\n",
    "Key_Database = []\n",
    "for x in range (10000):\n",
    "    signal = FrequencyMaker(x)\n",
    "    Signal_Database.append(signal)\n",
    "    key = sd['Key'][x]\n",
    "    Key_Database.append(key)"
   ]
  },
  {
   "cell_type": "code",
   "execution_count": 7,
   "metadata": {
    "collapsed": false
   },
   "outputs": [
    {
     "output_type": "display_data",
     "data": {
      "text/plain": "<Figure size 432x288 with 1 Axes>",
      "image/svg+xml": "<?xml version=\"1.0\" encoding=\"utf-8\" standalone=\"no\"?>\r\n<!DOCTYPE svg PUBLIC \"-//W3C//DTD SVG 1.1//EN\"\r\n  \"http://www.w3.org/Graphics/SVG/1.1/DTD/svg11.dtd\">\r\n<!-- Created with matplotlib (https://matplotlib.org/) -->\r\n<svg height=\"277.314375pt\" version=\"1.1\" viewBox=\"0 0 424.384375 277.314375\" width=\"424.384375pt\" xmlns=\"http://www.w3.org/2000/svg\" xmlns:xlink=\"http://www.w3.org/1999/xlink\">\r\n <defs>\r\n  <style type=\"text/css\">\r\n*{stroke-linecap:butt;stroke-linejoin:round;}\r\n  </style>\r\n </defs>\r\n <g id=\"figure_1\">\r\n  <g id=\"patch_1\">\r\n   <path d=\"M 0 277.314375 \r\nL 424.384375 277.314375 \r\nL 424.384375 0 \r\nL 0 0 \r\nz\r\n\" style=\"fill:none;\"/>\r\n  </g>\r\n  <g id=\"axes_1\">\r\n   <g id=\"patch_2\">\r\n    <path d=\"M 68.070312 239.758125 \r\nL 402.870313 239.758125 \r\nL 402.870313 22.318125 \r\nL 68.070312 22.318125 \r\nz\r\n\" style=\"fill:#ffffff;\"/>\r\n   </g>\r\n   <g id=\"matplotlib.axis_1\">\r\n    <g id=\"xtick_1\">\r\n     <g id=\"line2d_1\">\r\n      <path clip-path=\"url(#pe0d830b6d5)\" d=\"M 68.070312 239.758125 \r\nL 68.070312 22.318125 \r\n\" style=\"fill:none;stroke:#b0b0b0;stroke-linecap:square;stroke-width:0.8;\"/>\r\n     </g>\r\n     <g id=\"line2d_2\">\r\n      <defs>\r\n       <path d=\"M 0 0 \r\nL 0 3.5 \r\n\" id=\"mcdb5221bd8\" style=\"stroke:#000000;stroke-width:0.8;\"/>\r\n      </defs>\r\n      <g>\r\n       <use style=\"stroke:#000000;stroke-width:0.8;\" x=\"68.070312\" xlink:href=\"#mcdb5221bd8\" y=\"239.758125\"/>\r\n      </g>\r\n     </g>\r\n     <g id=\"text_1\">\r\n      <!-- 0.000 -->\r\n      <defs>\r\n       <path d=\"M 31.78125 66.40625 \r\nQ 24.171875 66.40625 20.328125 58.90625 \r\nQ 16.5 51.421875 16.5 36.375 \r\nQ 16.5 21.390625 20.328125 13.890625 \r\nQ 24.171875 6.390625 31.78125 6.390625 \r\nQ 39.453125 6.390625 43.28125 13.890625 \r\nQ 47.125 21.390625 47.125 36.375 \r\nQ 47.125 51.421875 43.28125 58.90625 \r\nQ 39.453125 66.40625 31.78125 66.40625 \r\nz\r\nM 31.78125 74.21875 \r\nQ 44.046875 74.21875 50.515625 64.515625 \r\nQ 56.984375 54.828125 56.984375 36.375 \r\nQ 56.984375 17.96875 50.515625 8.265625 \r\nQ 44.046875 -1.421875 31.78125 -1.421875 \r\nQ 19.53125 -1.421875 13.0625 8.265625 \r\nQ 6.59375 17.96875 6.59375 36.375 \r\nQ 6.59375 54.828125 13.0625 64.515625 \r\nQ 19.53125 74.21875 31.78125 74.21875 \r\nz\r\n\" id=\"DejaVuSans-48\"/>\r\n       <path d=\"M 10.6875 12.40625 \r\nL 21 12.40625 \r\nL 21 0 \r\nL 10.6875 0 \r\nz\r\n\" id=\"DejaVuSans-46\"/>\r\n      </defs>\r\n      <g transform=\"translate(53.75625 254.356562)scale(0.1 -0.1)\">\r\n       <use xlink:href=\"#DejaVuSans-48\"/>\r\n       <use x=\"63.623047\" xlink:href=\"#DejaVuSans-46\"/>\r\n       <use x=\"95.410156\" xlink:href=\"#DejaVuSans-48\"/>\r\n       <use x=\"159.033203\" xlink:href=\"#DejaVuSans-48\"/>\r\n       <use x=\"222.65625\" xlink:href=\"#DejaVuSans-48\"/>\r\n      </g>\r\n     </g>\r\n    </g>\r\n    <g id=\"xtick_2\">\r\n     <g id=\"line2d_3\">\r\n      <path clip-path=\"url(#pe0d830b6d5)\" d=\"M 135.030313 239.758125 \r\nL 135.030313 22.318125 \r\n\" style=\"fill:none;stroke:#b0b0b0;stroke-linecap:square;stroke-width:0.8;\"/>\r\n     </g>\r\n     <g id=\"line2d_4\">\r\n      <g>\r\n       <use style=\"stroke:#000000;stroke-width:0.8;\" x=\"135.030313\" xlink:href=\"#mcdb5221bd8\" y=\"239.758125\"/>\r\n      </g>\r\n     </g>\r\n     <g id=\"text_2\">\r\n      <!-- 0.002 -->\r\n      <defs>\r\n       <path d=\"M 19.1875 8.296875 \r\nL 53.609375 8.296875 \r\nL 53.609375 0 \r\nL 7.328125 0 \r\nL 7.328125 8.296875 \r\nQ 12.9375 14.109375 22.625 23.890625 \r\nQ 32.328125 33.6875 34.8125 36.53125 \r\nQ 39.546875 41.84375 41.421875 45.53125 \r\nQ 43.3125 49.21875 43.3125 52.78125 \r\nQ 43.3125 58.59375 39.234375 62.25 \r\nQ 35.15625 65.921875 28.609375 65.921875 \r\nQ 23.96875 65.921875 18.8125 64.3125 \r\nQ 13.671875 62.703125 7.8125 59.421875 \r\nL 7.8125 69.390625 \r\nQ 13.765625 71.78125 18.9375 73 \r\nQ 24.125 74.21875 28.421875 74.21875 \r\nQ 39.75 74.21875 46.484375 68.546875 \r\nQ 53.21875 62.890625 53.21875 53.421875 \r\nQ 53.21875 48.921875 51.53125 44.890625 \r\nQ 49.859375 40.875 45.40625 35.40625 \r\nQ 44.1875 33.984375 37.640625 27.21875 \r\nQ 31.109375 20.453125 19.1875 8.296875 \r\nz\r\n\" id=\"DejaVuSans-50\"/>\r\n      </defs>\r\n      <g transform=\"translate(120.71625 254.356562)scale(0.1 -0.1)\">\r\n       <use xlink:href=\"#DejaVuSans-48\"/>\r\n       <use x=\"63.623047\" xlink:href=\"#DejaVuSans-46\"/>\r\n       <use x=\"95.410156\" xlink:href=\"#DejaVuSans-48\"/>\r\n       <use x=\"159.033203\" xlink:href=\"#DejaVuSans-48\"/>\r\n       <use x=\"222.65625\" xlink:href=\"#DejaVuSans-50\"/>\r\n      </g>\r\n     </g>\r\n    </g>\r\n    <g id=\"xtick_3\">\r\n     <g id=\"line2d_5\">\r\n      <path clip-path=\"url(#pe0d830b6d5)\" d=\"M 201.990313 239.758125 \r\nL 201.990313 22.318125 \r\n\" style=\"fill:none;stroke:#b0b0b0;stroke-linecap:square;stroke-width:0.8;\"/>\r\n     </g>\r\n     <g id=\"line2d_6\">\r\n      <g>\r\n       <use style=\"stroke:#000000;stroke-width:0.8;\" x=\"201.990313\" xlink:href=\"#mcdb5221bd8\" y=\"239.758125\"/>\r\n      </g>\r\n     </g>\r\n     <g id=\"text_3\">\r\n      <!-- 0.004 -->\r\n      <defs>\r\n       <path d=\"M 37.796875 64.3125 \r\nL 12.890625 25.390625 \r\nL 37.796875 25.390625 \r\nz\r\nM 35.203125 72.90625 \r\nL 47.609375 72.90625 \r\nL 47.609375 25.390625 \r\nL 58.015625 25.390625 \r\nL 58.015625 17.1875 \r\nL 47.609375 17.1875 \r\nL 47.609375 0 \r\nL 37.796875 0 \r\nL 37.796875 17.1875 \r\nL 4.890625 17.1875 \r\nL 4.890625 26.703125 \r\nz\r\n\" id=\"DejaVuSans-52\"/>\r\n      </defs>\r\n      <g transform=\"translate(187.67625 254.356562)scale(0.1 -0.1)\">\r\n       <use xlink:href=\"#DejaVuSans-48\"/>\r\n       <use x=\"63.623047\" xlink:href=\"#DejaVuSans-46\"/>\r\n       <use x=\"95.410156\" xlink:href=\"#DejaVuSans-48\"/>\r\n       <use x=\"159.033203\" xlink:href=\"#DejaVuSans-48\"/>\r\n       <use x=\"222.65625\" xlink:href=\"#DejaVuSans-52\"/>\r\n      </g>\r\n     </g>\r\n    </g>\r\n    <g id=\"xtick_4\">\r\n     <g id=\"line2d_7\">\r\n      <path clip-path=\"url(#pe0d830b6d5)\" d=\"M 268.950312 239.758125 \r\nL 268.950312 22.318125 \r\n\" style=\"fill:none;stroke:#b0b0b0;stroke-linecap:square;stroke-width:0.8;\"/>\r\n     </g>\r\n     <g id=\"line2d_8\">\r\n      <g>\r\n       <use style=\"stroke:#000000;stroke-width:0.8;\" x=\"268.950312\" xlink:href=\"#mcdb5221bd8\" y=\"239.758125\"/>\r\n      </g>\r\n     </g>\r\n     <g id=\"text_4\">\r\n      <!-- 0.006 -->\r\n      <defs>\r\n       <path d=\"M 33.015625 40.375 \r\nQ 26.375 40.375 22.484375 35.828125 \r\nQ 18.609375 31.296875 18.609375 23.390625 \r\nQ 18.609375 15.53125 22.484375 10.953125 \r\nQ 26.375 6.390625 33.015625 6.390625 \r\nQ 39.65625 6.390625 43.53125 10.953125 \r\nQ 47.40625 15.53125 47.40625 23.390625 \r\nQ 47.40625 31.296875 43.53125 35.828125 \r\nQ 39.65625 40.375 33.015625 40.375 \r\nz\r\nM 52.59375 71.296875 \r\nL 52.59375 62.3125 \r\nQ 48.875 64.0625 45.09375 64.984375 \r\nQ 41.3125 65.921875 37.59375 65.921875 \r\nQ 27.828125 65.921875 22.671875 59.328125 \r\nQ 17.53125 52.734375 16.796875 39.40625 \r\nQ 19.671875 43.65625 24.015625 45.921875 \r\nQ 28.375 48.1875 33.59375 48.1875 \r\nQ 44.578125 48.1875 50.953125 41.515625 \r\nQ 57.328125 34.859375 57.328125 23.390625 \r\nQ 57.328125 12.15625 50.6875 5.359375 \r\nQ 44.046875 -1.421875 33.015625 -1.421875 \r\nQ 20.359375 -1.421875 13.671875 8.265625 \r\nQ 6.984375 17.96875 6.984375 36.375 \r\nQ 6.984375 53.65625 15.1875 63.9375 \r\nQ 23.390625 74.21875 37.203125 74.21875 \r\nQ 40.921875 74.21875 44.703125 73.484375 \r\nQ 48.484375 72.75 52.59375 71.296875 \r\nz\r\n\" id=\"DejaVuSans-54\"/>\r\n      </defs>\r\n      <g transform=\"translate(254.63625 254.356562)scale(0.1 -0.1)\">\r\n       <use xlink:href=\"#DejaVuSans-48\"/>\r\n       <use x=\"63.623047\" xlink:href=\"#DejaVuSans-46\"/>\r\n       <use x=\"95.410156\" xlink:href=\"#DejaVuSans-48\"/>\r\n       <use x=\"159.033203\" xlink:href=\"#DejaVuSans-48\"/>\r\n       <use x=\"222.65625\" xlink:href=\"#DejaVuSans-54\"/>\r\n      </g>\r\n     </g>\r\n    </g>\r\n    <g id=\"xtick_5\">\r\n     <g id=\"line2d_9\">\r\n      <path clip-path=\"url(#pe0d830b6d5)\" d=\"M 335.910313 239.758125 \r\nL 335.910313 22.318125 \r\n\" style=\"fill:none;stroke:#b0b0b0;stroke-linecap:square;stroke-width:0.8;\"/>\r\n     </g>\r\n     <g id=\"line2d_10\">\r\n      <g>\r\n       <use style=\"stroke:#000000;stroke-width:0.8;\" x=\"335.910313\" xlink:href=\"#mcdb5221bd8\" y=\"239.758125\"/>\r\n      </g>\r\n     </g>\r\n     <g id=\"text_5\">\r\n      <!-- 0.008 -->\r\n      <defs>\r\n       <path d=\"M 31.78125 34.625 \r\nQ 24.75 34.625 20.71875 30.859375 \r\nQ 16.703125 27.09375 16.703125 20.515625 \r\nQ 16.703125 13.921875 20.71875 10.15625 \r\nQ 24.75 6.390625 31.78125 6.390625 \r\nQ 38.8125 6.390625 42.859375 10.171875 \r\nQ 46.921875 13.96875 46.921875 20.515625 \r\nQ 46.921875 27.09375 42.890625 30.859375 \r\nQ 38.875 34.625 31.78125 34.625 \r\nz\r\nM 21.921875 38.8125 \r\nQ 15.578125 40.375 12.03125 44.71875 \r\nQ 8.5 49.078125 8.5 55.328125 \r\nQ 8.5 64.0625 14.71875 69.140625 \r\nQ 20.953125 74.21875 31.78125 74.21875 \r\nQ 42.671875 74.21875 48.875 69.140625 \r\nQ 55.078125 64.0625 55.078125 55.328125 \r\nQ 55.078125 49.078125 51.53125 44.71875 \r\nQ 48 40.375 41.703125 38.8125 \r\nQ 48.828125 37.15625 52.796875 32.3125 \r\nQ 56.78125 27.484375 56.78125 20.515625 \r\nQ 56.78125 9.90625 50.3125 4.234375 \r\nQ 43.84375 -1.421875 31.78125 -1.421875 \r\nQ 19.734375 -1.421875 13.25 4.234375 \r\nQ 6.78125 9.90625 6.78125 20.515625 \r\nQ 6.78125 27.484375 10.78125 32.3125 \r\nQ 14.796875 37.15625 21.921875 38.8125 \r\nz\r\nM 18.3125 54.390625 \r\nQ 18.3125 48.734375 21.84375 45.5625 \r\nQ 25.390625 42.390625 31.78125 42.390625 \r\nQ 38.140625 42.390625 41.71875 45.5625 \r\nQ 45.3125 48.734375 45.3125 54.390625 \r\nQ 45.3125 60.0625 41.71875 63.234375 \r\nQ 38.140625 66.40625 31.78125 66.40625 \r\nQ 25.390625 66.40625 21.84375 63.234375 \r\nQ 18.3125 60.0625 18.3125 54.390625 \r\nz\r\n\" id=\"DejaVuSans-56\"/>\r\n      </defs>\r\n      <g transform=\"translate(321.59625 254.356562)scale(0.1 -0.1)\">\r\n       <use xlink:href=\"#DejaVuSans-48\"/>\r\n       <use x=\"63.623047\" xlink:href=\"#DejaVuSans-46\"/>\r\n       <use x=\"95.410156\" xlink:href=\"#DejaVuSans-48\"/>\r\n       <use x=\"159.033203\" xlink:href=\"#DejaVuSans-48\"/>\r\n       <use x=\"222.65625\" xlink:href=\"#DejaVuSans-56\"/>\r\n      </g>\r\n     </g>\r\n    </g>\r\n    <g id=\"xtick_6\">\r\n     <g id=\"line2d_11\">\r\n      <path clip-path=\"url(#pe0d830b6d5)\" d=\"M 402.870313 239.758125 \r\nL 402.870313 22.318125 \r\n\" style=\"fill:none;stroke:#b0b0b0;stroke-linecap:square;stroke-width:0.8;\"/>\r\n     </g>\r\n     <g id=\"line2d_12\">\r\n      <g>\r\n       <use style=\"stroke:#000000;stroke-width:0.8;\" x=\"402.870313\" xlink:href=\"#mcdb5221bd8\" y=\"239.758125\"/>\r\n      </g>\r\n     </g>\r\n     <g id=\"text_6\">\r\n      <!-- 0.010 -->\r\n      <defs>\r\n       <path d=\"M 12.40625 8.296875 \r\nL 28.515625 8.296875 \r\nL 28.515625 63.921875 \r\nL 10.984375 60.40625 \r\nL 10.984375 69.390625 \r\nL 28.421875 72.90625 \r\nL 38.28125 72.90625 \r\nL 38.28125 8.296875 \r\nL 54.390625 8.296875 \r\nL 54.390625 0 \r\nL 12.40625 0 \r\nz\r\n\" id=\"DejaVuSans-49\"/>\r\n      </defs>\r\n      <g transform=\"translate(388.55625 254.356562)scale(0.1 -0.1)\">\r\n       <use xlink:href=\"#DejaVuSans-48\"/>\r\n       <use x=\"63.623047\" xlink:href=\"#DejaVuSans-46\"/>\r\n       <use x=\"95.410156\" xlink:href=\"#DejaVuSans-48\"/>\r\n       <use x=\"159.033203\" xlink:href=\"#DejaVuSans-49\"/>\r\n       <use x=\"222.65625\" xlink:href=\"#DejaVuSans-48\"/>\r\n      </g>\r\n     </g>\r\n    </g>\r\n    <g id=\"text_7\">\r\n     <!-- Time -->\r\n     <defs>\r\n      <path d=\"M -0.296875 72.90625 \r\nL 61.375 72.90625 \r\nL 61.375 64.59375 \r\nL 35.5 64.59375 \r\nL 35.5 0 \r\nL 25.59375 0 \r\nL 25.59375 64.59375 \r\nL -0.296875 64.59375 \r\nz\r\n\" id=\"DejaVuSans-84\"/>\r\n      <path d=\"M 9.421875 54.6875 \r\nL 18.40625 54.6875 \r\nL 18.40625 0 \r\nL 9.421875 0 \r\nz\r\nM 9.421875 75.984375 \r\nL 18.40625 75.984375 \r\nL 18.40625 64.59375 \r\nL 9.421875 64.59375 \r\nz\r\n\" id=\"DejaVuSans-105\"/>\r\n      <path d=\"M 52 44.1875 \r\nQ 55.375 50.25 60.0625 53.125 \r\nQ 64.75 56 71.09375 56 \r\nQ 79.640625 56 84.28125 50.015625 \r\nQ 88.921875 44.046875 88.921875 33.015625 \r\nL 88.921875 0 \r\nL 79.890625 0 \r\nL 79.890625 32.71875 \r\nQ 79.890625 40.578125 77.09375 44.375 \r\nQ 74.3125 48.1875 68.609375 48.1875 \r\nQ 61.625 48.1875 57.5625 43.546875 \r\nQ 53.515625 38.921875 53.515625 30.90625 \r\nL 53.515625 0 \r\nL 44.484375 0 \r\nL 44.484375 32.71875 \r\nQ 44.484375 40.625 41.703125 44.40625 \r\nQ 38.921875 48.1875 33.109375 48.1875 \r\nQ 26.21875 48.1875 22.15625 43.53125 \r\nQ 18.109375 38.875 18.109375 30.90625 \r\nL 18.109375 0 \r\nL 9.078125 0 \r\nL 9.078125 54.6875 \r\nL 18.109375 54.6875 \r\nL 18.109375 46.1875 \r\nQ 21.1875 51.21875 25.484375 53.609375 \r\nQ 29.78125 56 35.6875 56 \r\nQ 41.65625 56 45.828125 52.96875 \r\nQ 50 49.953125 52 44.1875 \r\nz\r\n\" id=\"DejaVuSans-109\"/>\r\n      <path d=\"M 56.203125 29.59375 \r\nL 56.203125 25.203125 \r\nL 14.890625 25.203125 \r\nQ 15.484375 15.921875 20.484375 11.0625 \r\nQ 25.484375 6.203125 34.421875 6.203125 \r\nQ 39.59375 6.203125 44.453125 7.46875 \r\nQ 49.3125 8.734375 54.109375 11.28125 \r\nL 54.109375 2.78125 \r\nQ 49.265625 0.734375 44.1875 -0.34375 \r\nQ 39.109375 -1.421875 33.890625 -1.421875 \r\nQ 20.796875 -1.421875 13.15625 6.1875 \r\nQ 5.515625 13.8125 5.515625 26.8125 \r\nQ 5.515625 40.234375 12.765625 48.109375 \r\nQ 20.015625 56 32.328125 56 \r\nQ 43.359375 56 49.78125 48.890625 \r\nQ 56.203125 41.796875 56.203125 29.59375 \r\nz\r\nM 47.21875 32.234375 \r\nQ 47.125 39.59375 43.09375 43.984375 \r\nQ 39.0625 48.390625 32.421875 48.390625 \r\nQ 24.90625 48.390625 20.390625 44.140625 \r\nQ 15.875 39.890625 15.1875 32.171875 \r\nz\r\n\" id=\"DejaVuSans-101\"/>\r\n     </defs>\r\n     <g transform=\"translate(223.236719 268.034687)scale(0.1 -0.1)\">\r\n      <use xlink:href=\"#DejaVuSans-84\"/>\r\n      <use x=\"57.958984\" xlink:href=\"#DejaVuSans-105\"/>\r\n      <use x=\"85.742188\" xlink:href=\"#DejaVuSans-109\"/>\r\n      <use x=\"183.154297\" xlink:href=\"#DejaVuSans-101\"/>\r\n     </g>\r\n    </g>\r\n   </g>\r\n   <g id=\"matplotlib.axis_2\">\r\n    <g id=\"ytick_1\">\r\n     <g id=\"line2d_13\">\r\n      <path clip-path=\"url(#pe0d830b6d5)\" d=\"M 68.070312 206.453311 \r\nL 402.870313 206.453311 \r\n\" style=\"fill:none;stroke:#b0b0b0;stroke-linecap:square;stroke-width:0.8;\"/>\r\n     </g>\r\n     <g id=\"line2d_14\">\r\n      <defs>\r\n       <path d=\"M 0 0 \r\nL -3.5 0 \r\n\" id=\"mf4d264b870\" style=\"stroke:#000000;stroke-width:0.8;\"/>\r\n      </defs>\r\n      <g>\r\n       <use style=\"stroke:#000000;stroke-width:0.8;\" x=\"68.070312\" xlink:href=\"#mf4d264b870\" y=\"206.453311\"/>\r\n      </g>\r\n     </g>\r\n     <g id=\"text_8\">\r\n      <!-- −20000 -->\r\n      <defs>\r\n       <path d=\"M 10.59375 35.5 \r\nL 73.1875 35.5 \r\nL 73.1875 27.203125 \r\nL 10.59375 27.203125 \r\nz\r\n\" id=\"DejaVuSans-8722\"/>\r\n      </defs>\r\n      <g transform=\"translate(20.878125 210.25253)scale(0.1 -0.1)\">\r\n       <use xlink:href=\"#DejaVuSans-8722\"/>\r\n       <use x=\"83.789062\" xlink:href=\"#DejaVuSans-50\"/>\r\n       <use x=\"147.412109\" xlink:href=\"#DejaVuSans-48\"/>\r\n       <use x=\"211.035156\" xlink:href=\"#DejaVuSans-48\"/>\r\n       <use x=\"274.658203\" xlink:href=\"#DejaVuSans-48\"/>\r\n       <use x=\"338.28125\" xlink:href=\"#DejaVuSans-48\"/>\r\n      </g>\r\n     </g>\r\n    </g>\r\n    <g id=\"ytick_2\">\r\n     <g id=\"line2d_15\">\r\n      <path clip-path=\"url(#pe0d830b6d5)\" d=\"M 68.070312 168.745718 \r\nL 402.870313 168.745718 \r\n\" style=\"fill:none;stroke:#b0b0b0;stroke-linecap:square;stroke-width:0.8;\"/>\r\n     </g>\r\n     <g id=\"line2d_16\">\r\n      <g>\r\n       <use style=\"stroke:#000000;stroke-width:0.8;\" x=\"68.070312\" xlink:href=\"#mf4d264b870\" y=\"168.745718\"/>\r\n      </g>\r\n     </g>\r\n     <g id=\"text_9\">\r\n      <!-- −10000 -->\r\n      <g transform=\"translate(20.878125 172.544937)scale(0.1 -0.1)\">\r\n       <use xlink:href=\"#DejaVuSans-8722\"/>\r\n       <use x=\"83.789062\" xlink:href=\"#DejaVuSans-49\"/>\r\n       <use x=\"147.412109\" xlink:href=\"#DejaVuSans-48\"/>\r\n       <use x=\"211.035156\" xlink:href=\"#DejaVuSans-48\"/>\r\n       <use x=\"274.658203\" xlink:href=\"#DejaVuSans-48\"/>\r\n       <use x=\"338.28125\" xlink:href=\"#DejaVuSans-48\"/>\r\n      </g>\r\n     </g>\r\n    </g>\r\n    <g id=\"ytick_3\">\r\n     <g id=\"line2d_17\">\r\n      <path clip-path=\"url(#pe0d830b6d5)\" d=\"M 68.070312 131.038125 \r\nL 402.870313 131.038125 \r\n\" style=\"fill:none;stroke:#b0b0b0;stroke-linecap:square;stroke-width:0.8;\"/>\r\n     </g>\r\n     <g id=\"line2d_18\">\r\n      <g>\r\n       <use style=\"stroke:#000000;stroke-width:0.8;\" x=\"68.070312\" xlink:href=\"#mf4d264b870\" y=\"131.038125\"/>\r\n      </g>\r\n     </g>\r\n     <g id=\"text_10\">\r\n      <!-- 0 -->\r\n      <g transform=\"translate(54.707813 134.837344)scale(0.1 -0.1)\">\r\n       <use xlink:href=\"#DejaVuSans-48\"/>\r\n      </g>\r\n     </g>\r\n    </g>\r\n    <g id=\"ytick_4\">\r\n     <g id=\"line2d_19\">\r\n      <path clip-path=\"url(#pe0d830b6d5)\" d=\"M 68.070312 93.330532 \r\nL 402.870313 93.330532 \r\n\" style=\"fill:none;stroke:#b0b0b0;stroke-linecap:square;stroke-width:0.8;\"/>\r\n     </g>\r\n     <g id=\"line2d_20\">\r\n      <g>\r\n       <use style=\"stroke:#000000;stroke-width:0.8;\" x=\"68.070312\" xlink:href=\"#mf4d264b870\" y=\"93.330532\"/>\r\n      </g>\r\n     </g>\r\n     <g id=\"text_11\">\r\n      <!-- 10000 -->\r\n      <g transform=\"translate(29.257812 97.129751)scale(0.1 -0.1)\">\r\n       <use xlink:href=\"#DejaVuSans-49\"/>\r\n       <use x=\"63.623047\" xlink:href=\"#DejaVuSans-48\"/>\r\n       <use x=\"127.246094\" xlink:href=\"#DejaVuSans-48\"/>\r\n       <use x=\"190.869141\" xlink:href=\"#DejaVuSans-48\"/>\r\n       <use x=\"254.492188\" xlink:href=\"#DejaVuSans-48\"/>\r\n      </g>\r\n     </g>\r\n    </g>\r\n    <g id=\"ytick_5\">\r\n     <g id=\"line2d_21\">\r\n      <path clip-path=\"url(#pe0d830b6d5)\" d=\"M 68.070312 55.622939 \r\nL 402.870313 55.622939 \r\n\" style=\"fill:none;stroke:#b0b0b0;stroke-linecap:square;stroke-width:0.8;\"/>\r\n     </g>\r\n     <g id=\"line2d_22\">\r\n      <g>\r\n       <use style=\"stroke:#000000;stroke-width:0.8;\" x=\"68.070312\" xlink:href=\"#mf4d264b870\" y=\"55.622939\"/>\r\n      </g>\r\n     </g>\r\n     <g id=\"text_12\">\r\n      <!-- 20000 -->\r\n      <g transform=\"translate(29.257812 59.422158)scale(0.1 -0.1)\">\r\n       <use xlink:href=\"#DejaVuSans-50\"/>\r\n       <use x=\"63.623047\" xlink:href=\"#DejaVuSans-48\"/>\r\n       <use x=\"127.246094\" xlink:href=\"#DejaVuSans-48\"/>\r\n       <use x=\"190.869141\" xlink:href=\"#DejaVuSans-48\"/>\r\n       <use x=\"254.492188\" xlink:href=\"#DejaVuSans-48\"/>\r\n      </g>\r\n     </g>\r\n    </g>\r\n    <g id=\"text_13\">\r\n     <!-- Wavelength -->\r\n     <defs>\r\n      <path d=\"M 3.328125 72.90625 \r\nL 13.28125 72.90625 \r\nL 28.609375 11.28125 \r\nL 43.890625 72.90625 \r\nL 54.984375 72.90625 \r\nL 70.3125 11.28125 \r\nL 85.59375 72.90625 \r\nL 95.609375 72.90625 \r\nL 77.296875 0 \r\nL 64.890625 0 \r\nL 49.515625 63.28125 \r\nL 33.984375 0 \r\nL 21.578125 0 \r\nz\r\n\" id=\"DejaVuSans-87\"/>\r\n      <path d=\"M 34.28125 27.484375 \r\nQ 23.390625 27.484375 19.1875 25 \r\nQ 14.984375 22.515625 14.984375 16.5 \r\nQ 14.984375 11.71875 18.140625 8.90625 \r\nQ 21.296875 6.109375 26.703125 6.109375 \r\nQ 34.1875 6.109375 38.703125 11.40625 \r\nQ 43.21875 16.703125 43.21875 25.484375 \r\nL 43.21875 27.484375 \r\nz\r\nM 52.203125 31.203125 \r\nL 52.203125 0 \r\nL 43.21875 0 \r\nL 43.21875 8.296875 \r\nQ 40.140625 3.328125 35.546875 0.953125 \r\nQ 30.953125 -1.421875 24.3125 -1.421875 \r\nQ 15.921875 -1.421875 10.953125 3.296875 \r\nQ 6 8.015625 6 15.921875 \r\nQ 6 25.140625 12.171875 29.828125 \r\nQ 18.359375 34.515625 30.609375 34.515625 \r\nL 43.21875 34.515625 \r\nL 43.21875 35.40625 \r\nQ 43.21875 41.609375 39.140625 45 \r\nQ 35.0625 48.390625 27.6875 48.390625 \r\nQ 23 48.390625 18.546875 47.265625 \r\nQ 14.109375 46.140625 10.015625 43.890625 \r\nL 10.015625 52.203125 \r\nQ 14.9375 54.109375 19.578125 55.046875 \r\nQ 24.21875 56 28.609375 56 \r\nQ 40.484375 56 46.34375 49.84375 \r\nQ 52.203125 43.703125 52.203125 31.203125 \r\nz\r\n\" id=\"DejaVuSans-97\"/>\r\n      <path d=\"M 2.984375 54.6875 \r\nL 12.5 54.6875 \r\nL 29.59375 8.796875 \r\nL 46.6875 54.6875 \r\nL 56.203125 54.6875 \r\nL 35.6875 0 \r\nL 23.484375 0 \r\nz\r\n\" id=\"DejaVuSans-118\"/>\r\n      <path d=\"M 9.421875 75.984375 \r\nL 18.40625 75.984375 \r\nL 18.40625 0 \r\nL 9.421875 0 \r\nz\r\n\" id=\"DejaVuSans-108\"/>\r\n      <path d=\"M 54.890625 33.015625 \r\nL 54.890625 0 \r\nL 45.90625 0 \r\nL 45.90625 32.71875 \r\nQ 45.90625 40.484375 42.875 44.328125 \r\nQ 39.84375 48.1875 33.796875 48.1875 \r\nQ 26.515625 48.1875 22.3125 43.546875 \r\nQ 18.109375 38.921875 18.109375 30.90625 \r\nL 18.109375 0 \r\nL 9.078125 0 \r\nL 9.078125 54.6875 \r\nL 18.109375 54.6875 \r\nL 18.109375 46.1875 \r\nQ 21.34375 51.125 25.703125 53.5625 \r\nQ 30.078125 56 35.796875 56 \r\nQ 45.21875 56 50.046875 50.171875 \r\nQ 54.890625 44.34375 54.890625 33.015625 \r\nz\r\n\" id=\"DejaVuSans-110\"/>\r\n      <path d=\"M 45.40625 27.984375 \r\nQ 45.40625 37.75 41.375 43.109375 \r\nQ 37.359375 48.484375 30.078125 48.484375 \r\nQ 22.859375 48.484375 18.828125 43.109375 \r\nQ 14.796875 37.75 14.796875 27.984375 \r\nQ 14.796875 18.265625 18.828125 12.890625 \r\nQ 22.859375 7.515625 30.078125 7.515625 \r\nQ 37.359375 7.515625 41.375 12.890625 \r\nQ 45.40625 18.265625 45.40625 27.984375 \r\nz\r\nM 54.390625 6.78125 \r\nQ 54.390625 -7.171875 48.1875 -13.984375 \r\nQ 42 -20.796875 29.203125 -20.796875 \r\nQ 24.46875 -20.796875 20.265625 -20.09375 \r\nQ 16.0625 -19.390625 12.109375 -17.921875 \r\nL 12.109375 -9.1875 \r\nQ 16.0625 -11.328125 19.921875 -12.34375 \r\nQ 23.78125 -13.375 27.78125 -13.375 \r\nQ 36.625 -13.375 41.015625 -8.765625 \r\nQ 45.40625 -4.15625 45.40625 5.171875 \r\nL 45.40625 9.625 \r\nQ 42.625 4.78125 38.28125 2.390625 \r\nQ 33.9375 0 27.875 0 \r\nQ 17.828125 0 11.671875 7.65625 \r\nQ 5.515625 15.328125 5.515625 27.984375 \r\nQ 5.515625 40.671875 11.671875 48.328125 \r\nQ 17.828125 56 27.875 56 \r\nQ 33.9375 56 38.28125 53.609375 \r\nQ 42.625 51.21875 45.40625 46.390625 \r\nL 45.40625 54.6875 \r\nL 54.390625 54.6875 \r\nz\r\n\" id=\"DejaVuSans-103\"/>\r\n      <path d=\"M 18.3125 70.21875 \r\nL 18.3125 54.6875 \r\nL 36.8125 54.6875 \r\nL 36.8125 47.703125 \r\nL 18.3125 47.703125 \r\nL 18.3125 18.015625 \r\nQ 18.3125 11.328125 20.140625 9.421875 \r\nQ 21.96875 7.515625 27.59375 7.515625 \r\nL 36.8125 7.515625 \r\nL 36.8125 0 \r\nL 27.59375 0 \r\nQ 17.1875 0 13.234375 3.875 \r\nQ 9.28125 7.765625 9.28125 18.015625 \r\nL 9.28125 47.703125 \r\nL 2.6875 47.703125 \r\nL 2.6875 54.6875 \r\nL 9.28125 54.6875 \r\nL 9.28125 70.21875 \r\nz\r\n\" id=\"DejaVuSans-116\"/>\r\n      <path d=\"M 54.890625 33.015625 \r\nL 54.890625 0 \r\nL 45.90625 0 \r\nL 45.90625 32.71875 \r\nQ 45.90625 40.484375 42.875 44.328125 \r\nQ 39.84375 48.1875 33.796875 48.1875 \r\nQ 26.515625 48.1875 22.3125 43.546875 \r\nQ 18.109375 38.921875 18.109375 30.90625 \r\nL 18.109375 0 \r\nL 9.078125 0 \r\nL 9.078125 75.984375 \r\nL 18.109375 75.984375 \r\nL 18.109375 46.1875 \r\nQ 21.34375 51.125 25.703125 53.5625 \r\nQ 30.078125 56 35.796875 56 \r\nQ 45.21875 56 50.046875 50.171875 \r\nQ 54.890625 44.34375 54.890625 33.015625 \r\nz\r\n\" id=\"DejaVuSans-104\"/>\r\n     </defs>\r\n     <g transform=\"translate(14.798437 160.700625)rotate(-90)scale(0.1 -0.1)\">\r\n      <use xlink:href=\"#DejaVuSans-87\"/>\r\n      <use x=\"92.501953\" xlink:href=\"#DejaVuSans-97\"/>\r\n      <use x=\"153.78125\" xlink:href=\"#DejaVuSans-118\"/>\r\n      <use x=\"212.960938\" xlink:href=\"#DejaVuSans-101\"/>\r\n      <use x=\"274.484375\" xlink:href=\"#DejaVuSans-108\"/>\r\n      <use x=\"302.267578\" xlink:href=\"#DejaVuSans-101\"/>\r\n      <use x=\"363.791016\" xlink:href=\"#DejaVuSans-110\"/>\r\n      <use x=\"427.169922\" xlink:href=\"#DejaVuSans-103\"/>\r\n      <use x=\"490.646484\" xlink:href=\"#DejaVuSans-116\"/>\r\n      <use x=\"529.855469\" xlink:href=\"#DejaVuSans-104\"/>\r\n     </g>\r\n    </g>\r\n   </g>\r\n   <g id=\"line2d_23\">\r\n    <path clip-path=\"url(#pe0d830b6d5)\" d=\"M 68.070312 103.778866 \r\nL 72.255313 66.138988 \r\nL 76.440313 59.983313 \r\nL 80.625313 101.212376 \r\nL 84.810313 169.627979 \r\nL 88.995312 221.647662 \r\nL 93.180312 222.758623 \r\nL 97.365313 173.74517 \r\nL 101.550313 109.532487 \r\nL 105.735313 71.759531 \r\nL 109.920312 77.490906 \r\nL 114.105312 109.19326 \r\nL 118.290312 133.115495 \r\nL 122.475313 129.620437 \r\nL 126.660313 109.49445 \r\nL 130.845313 102.632561 \r\nL 135.030313 129.228931 \r\nL 139.215313 178.671017 \r\nL 143.400313 215.01468 \r\nL 147.585312 205.456122 \r\nL 151.770312 148.460973 \r\nL 155.955312 77.830462 \r\nL 160.140312 38.492251 \r\nL 164.325312 53.07001 \r\nL 168.510312 105.970698 \r\nL 172.695312 157.41462 \r\nL 176.880313 175.389537 \r\nL 181.065313 159.197741 \r\nL 185.250313 135.851897 \r\nL 189.435313 133.55615 \r\nL 193.620313 155.590799 \r\nL 197.805312 177.172451 \r\nL 201.990313 168.030529 \r\nL 206.175313 121.284855 \r\nL 210.360313 63.440955 \r\nL 214.545313 35.907644 \r\nL 218.730313 62.412638 \r\nL 222.915312 128.960351 \r\nL 227.100313 193.145937 \r\nL 231.285313 215.737003 \r\nL 235.470313 189.253369 \r\nL 239.655313 140.886873 \r\nL 243.840313 108.294654 \r\nL 248.025313 108.931915 \r\nL 252.210312 128.321996 \r\nL 256.395312 136.232656 \r\nL 260.580312 116.045809 \r\nL 264.765312 81.572772 \r\nL 268.950312 66.404579 \r\nL 273.135312 94.437772 \r\nL 277.320312 156.620922 \r\nL 281.505313 214.317543 \r\nL 285.690313 227.702764 \r\nL 289.875313 186.596757 \r\nL 294.060313 118.679168 \r\nL 298.245313 68.304332 \r\nL 302.430313 63.054885 \r\nL 306.615313 94.930805 \r\nL 310.800313 130.65714 \r\nL 314.985313 141.436109 \r\nL 319.170313 126.707582 \r\nL 323.355312 112.14768 \r\nL 327.540312 124.300247 \r\nL 331.725313 164.188185 \r\nL 335.910313 203.19058 \r\nL 340.095313 205.586966 \r\nL 344.280313 159.327342 \r\nL 348.465313 89.041042 \r\nL 352.650313 39.552212 \r\nL 356.835313 42.482084 \r\nL 361.020313 92.665383 \r\nL 365.205313 153.261805 \r\nL 369.390313 185.057889 \r\nL 373.575312 175.902245 \r\nL 377.760312 146.646442 \r\nL 381.945312 129.857864 \r\nL 386.130313 140.225772 \r\nL 390.315313 162.090953 \r\nL 394.500313 164.578902 \r\nL 398.685313 131.089466 \r\nL 402.870313 77.416636 \r\nL 407.055313 42.111919 \r\n\" style=\"fill:none;stroke:#1f77b4;stroke-linecap:square;stroke-width:1.5;\"/>\r\n    <defs>\r\n     <path d=\"M -3 3 \r\nL 3 -3 \r\nM -3 -3 \r\nL 3 3 \r\n\" id=\"m8e6ffe7c52\" style=\"stroke:#1f77b4;\"/>\r\n    </defs>\r\n    <g clip-path=\"url(#pe0d830b6d5)\">\r\n     <use style=\"fill:#1f77b4;stroke:#1f77b4;\" x=\"68.070312\" xlink:href=\"#m8e6ffe7c52\" y=\"103.778866\"/>\r\n     <use style=\"fill:#1f77b4;stroke:#1f77b4;\" x=\"72.255313\" xlink:href=\"#m8e6ffe7c52\" y=\"66.138988\"/>\r\n     <use style=\"fill:#1f77b4;stroke:#1f77b4;\" x=\"76.440313\" xlink:href=\"#m8e6ffe7c52\" y=\"59.983313\"/>\r\n     <use style=\"fill:#1f77b4;stroke:#1f77b4;\" x=\"80.625313\" xlink:href=\"#m8e6ffe7c52\" y=\"101.212376\"/>\r\n     <use style=\"fill:#1f77b4;stroke:#1f77b4;\" x=\"84.810313\" xlink:href=\"#m8e6ffe7c52\" y=\"169.627979\"/>\r\n     <use style=\"fill:#1f77b4;stroke:#1f77b4;\" x=\"88.995312\" xlink:href=\"#m8e6ffe7c52\" y=\"221.647662\"/>\r\n     <use style=\"fill:#1f77b4;stroke:#1f77b4;\" x=\"93.180312\" xlink:href=\"#m8e6ffe7c52\" y=\"222.758623\"/>\r\n     <use style=\"fill:#1f77b4;stroke:#1f77b4;\" x=\"97.365313\" xlink:href=\"#m8e6ffe7c52\" y=\"173.74517\"/>\r\n     <use style=\"fill:#1f77b4;stroke:#1f77b4;\" x=\"101.550313\" xlink:href=\"#m8e6ffe7c52\" y=\"109.532487\"/>\r\n     <use style=\"fill:#1f77b4;stroke:#1f77b4;\" x=\"105.735313\" xlink:href=\"#m8e6ffe7c52\" y=\"71.759531\"/>\r\n     <use style=\"fill:#1f77b4;stroke:#1f77b4;\" x=\"109.920312\" xlink:href=\"#m8e6ffe7c52\" y=\"77.490906\"/>\r\n     <use style=\"fill:#1f77b4;stroke:#1f77b4;\" x=\"114.105312\" xlink:href=\"#m8e6ffe7c52\" y=\"109.19326\"/>\r\n     <use style=\"fill:#1f77b4;stroke:#1f77b4;\" x=\"118.290312\" xlink:href=\"#m8e6ffe7c52\" y=\"133.115495\"/>\r\n     <use style=\"fill:#1f77b4;stroke:#1f77b4;\" x=\"122.475313\" xlink:href=\"#m8e6ffe7c52\" y=\"129.620437\"/>\r\n     <use style=\"fill:#1f77b4;stroke:#1f77b4;\" x=\"126.660313\" xlink:href=\"#m8e6ffe7c52\" y=\"109.49445\"/>\r\n     <use style=\"fill:#1f77b4;stroke:#1f77b4;\" x=\"130.845313\" xlink:href=\"#m8e6ffe7c52\" y=\"102.632561\"/>\r\n     <use style=\"fill:#1f77b4;stroke:#1f77b4;\" x=\"135.030313\" xlink:href=\"#m8e6ffe7c52\" y=\"129.228931\"/>\r\n     <use style=\"fill:#1f77b4;stroke:#1f77b4;\" x=\"139.215313\" xlink:href=\"#m8e6ffe7c52\" y=\"178.671017\"/>\r\n     <use style=\"fill:#1f77b4;stroke:#1f77b4;\" x=\"143.400313\" xlink:href=\"#m8e6ffe7c52\" y=\"215.01468\"/>\r\n     <use style=\"fill:#1f77b4;stroke:#1f77b4;\" x=\"147.585312\" xlink:href=\"#m8e6ffe7c52\" y=\"205.456122\"/>\r\n     <use style=\"fill:#1f77b4;stroke:#1f77b4;\" x=\"151.770312\" xlink:href=\"#m8e6ffe7c52\" y=\"148.460973\"/>\r\n     <use style=\"fill:#1f77b4;stroke:#1f77b4;\" x=\"155.955312\" xlink:href=\"#m8e6ffe7c52\" y=\"77.830462\"/>\r\n     <use style=\"fill:#1f77b4;stroke:#1f77b4;\" x=\"160.140312\" xlink:href=\"#m8e6ffe7c52\" y=\"38.492251\"/>\r\n     <use style=\"fill:#1f77b4;stroke:#1f77b4;\" x=\"164.325312\" xlink:href=\"#m8e6ffe7c52\" y=\"53.07001\"/>\r\n     <use style=\"fill:#1f77b4;stroke:#1f77b4;\" x=\"168.510312\" xlink:href=\"#m8e6ffe7c52\" y=\"105.970698\"/>\r\n     <use style=\"fill:#1f77b4;stroke:#1f77b4;\" x=\"172.695312\" xlink:href=\"#m8e6ffe7c52\" y=\"157.41462\"/>\r\n     <use style=\"fill:#1f77b4;stroke:#1f77b4;\" x=\"176.880313\" xlink:href=\"#m8e6ffe7c52\" y=\"175.389537\"/>\r\n     <use style=\"fill:#1f77b4;stroke:#1f77b4;\" x=\"181.065313\" xlink:href=\"#m8e6ffe7c52\" y=\"159.197741\"/>\r\n     <use style=\"fill:#1f77b4;stroke:#1f77b4;\" x=\"185.250313\" xlink:href=\"#m8e6ffe7c52\" y=\"135.851897\"/>\r\n     <use style=\"fill:#1f77b4;stroke:#1f77b4;\" x=\"189.435313\" xlink:href=\"#m8e6ffe7c52\" y=\"133.55615\"/>\r\n     <use style=\"fill:#1f77b4;stroke:#1f77b4;\" x=\"193.620313\" xlink:href=\"#m8e6ffe7c52\" y=\"155.590799\"/>\r\n     <use style=\"fill:#1f77b4;stroke:#1f77b4;\" x=\"197.805312\" xlink:href=\"#m8e6ffe7c52\" y=\"177.172451\"/>\r\n     <use style=\"fill:#1f77b4;stroke:#1f77b4;\" x=\"201.990313\" xlink:href=\"#m8e6ffe7c52\" y=\"168.030529\"/>\r\n     <use style=\"fill:#1f77b4;stroke:#1f77b4;\" x=\"206.175313\" xlink:href=\"#m8e6ffe7c52\" y=\"121.284855\"/>\r\n     <use style=\"fill:#1f77b4;stroke:#1f77b4;\" x=\"210.360313\" xlink:href=\"#m8e6ffe7c52\" y=\"63.440955\"/>\r\n     <use style=\"fill:#1f77b4;stroke:#1f77b4;\" x=\"214.545313\" xlink:href=\"#m8e6ffe7c52\" y=\"35.907644\"/>\r\n     <use style=\"fill:#1f77b4;stroke:#1f77b4;\" x=\"218.730313\" xlink:href=\"#m8e6ffe7c52\" y=\"62.412638\"/>\r\n     <use style=\"fill:#1f77b4;stroke:#1f77b4;\" x=\"222.915312\" xlink:href=\"#m8e6ffe7c52\" y=\"128.960351\"/>\r\n     <use style=\"fill:#1f77b4;stroke:#1f77b4;\" x=\"227.100313\" xlink:href=\"#m8e6ffe7c52\" y=\"193.145937\"/>\r\n     <use style=\"fill:#1f77b4;stroke:#1f77b4;\" x=\"231.285313\" xlink:href=\"#m8e6ffe7c52\" y=\"215.737003\"/>\r\n     <use style=\"fill:#1f77b4;stroke:#1f77b4;\" x=\"235.470313\" xlink:href=\"#m8e6ffe7c52\" y=\"189.253369\"/>\r\n     <use style=\"fill:#1f77b4;stroke:#1f77b4;\" x=\"239.655313\" xlink:href=\"#m8e6ffe7c52\" y=\"140.886873\"/>\r\n     <use style=\"fill:#1f77b4;stroke:#1f77b4;\" x=\"243.840313\" xlink:href=\"#m8e6ffe7c52\" y=\"108.294654\"/>\r\n     <use style=\"fill:#1f77b4;stroke:#1f77b4;\" x=\"248.025313\" xlink:href=\"#m8e6ffe7c52\" y=\"108.931915\"/>\r\n     <use style=\"fill:#1f77b4;stroke:#1f77b4;\" x=\"252.210312\" xlink:href=\"#m8e6ffe7c52\" y=\"128.321996\"/>\r\n     <use style=\"fill:#1f77b4;stroke:#1f77b4;\" x=\"256.395312\" xlink:href=\"#m8e6ffe7c52\" y=\"136.232656\"/>\r\n     <use style=\"fill:#1f77b4;stroke:#1f77b4;\" x=\"260.580312\" xlink:href=\"#m8e6ffe7c52\" y=\"116.045809\"/>\r\n     <use style=\"fill:#1f77b4;stroke:#1f77b4;\" x=\"264.765312\" xlink:href=\"#m8e6ffe7c52\" y=\"81.572772\"/>\r\n     <use style=\"fill:#1f77b4;stroke:#1f77b4;\" x=\"268.950312\" xlink:href=\"#m8e6ffe7c52\" y=\"66.404579\"/>\r\n     <use style=\"fill:#1f77b4;stroke:#1f77b4;\" x=\"273.135312\" xlink:href=\"#m8e6ffe7c52\" y=\"94.437772\"/>\r\n     <use style=\"fill:#1f77b4;stroke:#1f77b4;\" x=\"277.320312\" xlink:href=\"#m8e6ffe7c52\" y=\"156.620922\"/>\r\n     <use style=\"fill:#1f77b4;stroke:#1f77b4;\" x=\"281.505313\" xlink:href=\"#m8e6ffe7c52\" y=\"214.317543\"/>\r\n     <use style=\"fill:#1f77b4;stroke:#1f77b4;\" x=\"285.690313\" xlink:href=\"#m8e6ffe7c52\" y=\"227.702764\"/>\r\n     <use style=\"fill:#1f77b4;stroke:#1f77b4;\" x=\"289.875313\" xlink:href=\"#m8e6ffe7c52\" y=\"186.596757\"/>\r\n     <use style=\"fill:#1f77b4;stroke:#1f77b4;\" x=\"294.060313\" xlink:href=\"#m8e6ffe7c52\" y=\"118.679168\"/>\r\n     <use style=\"fill:#1f77b4;stroke:#1f77b4;\" x=\"298.245313\" xlink:href=\"#m8e6ffe7c52\" y=\"68.304332\"/>\r\n     <use style=\"fill:#1f77b4;stroke:#1f77b4;\" x=\"302.430313\" xlink:href=\"#m8e6ffe7c52\" y=\"63.054885\"/>\r\n     <use style=\"fill:#1f77b4;stroke:#1f77b4;\" x=\"306.615313\" xlink:href=\"#m8e6ffe7c52\" y=\"94.930805\"/>\r\n     <use style=\"fill:#1f77b4;stroke:#1f77b4;\" x=\"310.800313\" xlink:href=\"#m8e6ffe7c52\" y=\"130.65714\"/>\r\n     <use style=\"fill:#1f77b4;stroke:#1f77b4;\" x=\"314.985313\" xlink:href=\"#m8e6ffe7c52\" y=\"141.436109\"/>\r\n     <use style=\"fill:#1f77b4;stroke:#1f77b4;\" x=\"319.170313\" xlink:href=\"#m8e6ffe7c52\" y=\"126.707582\"/>\r\n     <use style=\"fill:#1f77b4;stroke:#1f77b4;\" x=\"323.355312\" xlink:href=\"#m8e6ffe7c52\" y=\"112.14768\"/>\r\n     <use style=\"fill:#1f77b4;stroke:#1f77b4;\" x=\"327.540312\" xlink:href=\"#m8e6ffe7c52\" y=\"124.300247\"/>\r\n     <use style=\"fill:#1f77b4;stroke:#1f77b4;\" x=\"331.725313\" xlink:href=\"#m8e6ffe7c52\" y=\"164.188185\"/>\r\n     <use style=\"fill:#1f77b4;stroke:#1f77b4;\" x=\"335.910313\" xlink:href=\"#m8e6ffe7c52\" y=\"203.19058\"/>\r\n     <use style=\"fill:#1f77b4;stroke:#1f77b4;\" x=\"340.095313\" xlink:href=\"#m8e6ffe7c52\" y=\"205.586966\"/>\r\n     <use style=\"fill:#1f77b4;stroke:#1f77b4;\" x=\"344.280313\" xlink:href=\"#m8e6ffe7c52\" y=\"159.327342\"/>\r\n     <use style=\"fill:#1f77b4;stroke:#1f77b4;\" x=\"348.465313\" xlink:href=\"#m8e6ffe7c52\" y=\"89.041042\"/>\r\n     <use style=\"fill:#1f77b4;stroke:#1f77b4;\" x=\"352.650313\" xlink:href=\"#m8e6ffe7c52\" y=\"39.552212\"/>\r\n     <use style=\"fill:#1f77b4;stroke:#1f77b4;\" x=\"356.835313\" xlink:href=\"#m8e6ffe7c52\" y=\"42.482084\"/>\r\n     <use style=\"fill:#1f77b4;stroke:#1f77b4;\" x=\"361.020313\" xlink:href=\"#m8e6ffe7c52\" y=\"92.665383\"/>\r\n     <use style=\"fill:#1f77b4;stroke:#1f77b4;\" x=\"365.205313\" xlink:href=\"#m8e6ffe7c52\" y=\"153.261805\"/>\r\n     <use style=\"fill:#1f77b4;stroke:#1f77b4;\" x=\"369.390313\" xlink:href=\"#m8e6ffe7c52\" y=\"185.057889\"/>\r\n     <use style=\"fill:#1f77b4;stroke:#1f77b4;\" x=\"373.575312\" xlink:href=\"#m8e6ffe7c52\" y=\"175.902245\"/>\r\n     <use style=\"fill:#1f77b4;stroke:#1f77b4;\" x=\"377.760312\" xlink:href=\"#m8e6ffe7c52\" y=\"146.646442\"/>\r\n     <use style=\"fill:#1f77b4;stroke:#1f77b4;\" x=\"381.945312\" xlink:href=\"#m8e6ffe7c52\" y=\"129.857864\"/>\r\n     <use style=\"fill:#1f77b4;stroke:#1f77b4;\" x=\"386.130313\" xlink:href=\"#m8e6ffe7c52\" y=\"140.225772\"/>\r\n     <use style=\"fill:#1f77b4;stroke:#1f77b4;\" x=\"390.315313\" xlink:href=\"#m8e6ffe7c52\" y=\"162.090953\"/>\r\n     <use style=\"fill:#1f77b4;stroke:#1f77b4;\" x=\"394.500313\" xlink:href=\"#m8e6ffe7c52\" y=\"164.578902\"/>\r\n     <use style=\"fill:#1f77b4;stroke:#1f77b4;\" x=\"398.685313\" xlink:href=\"#m8e6ffe7c52\" y=\"131.089466\"/>\r\n     <use style=\"fill:#1f77b4;stroke:#1f77b4;\" x=\"402.870313\" xlink:href=\"#m8e6ffe7c52\" y=\"77.416636\"/>\r\n     <use style=\"fill:#1f77b4;stroke:#1f77b4;\" x=\"407.055313\" xlink:href=\"#m8e6ffe7c52\" y=\"42.111919\"/>\r\n    </g>\r\n   </g>\r\n   <g id=\"patch_3\">\r\n    <path d=\"M 68.070312 239.758125 \r\nL 68.070312 22.318125 \r\n\" style=\"fill:none;stroke:#000000;stroke-linecap:square;stroke-linejoin:miter;stroke-width:0.8;\"/>\r\n   </g>\r\n   <g id=\"patch_4\">\r\n    <path d=\"M 402.870313 239.758125 \r\nL 402.870313 22.318125 \r\n\" style=\"fill:none;stroke:#000000;stroke-linecap:square;stroke-linejoin:miter;stroke-width:0.8;\"/>\r\n   </g>\r\n   <g id=\"patch_5\">\r\n    <path d=\"M 68.070312 239.758125 \r\nL 402.870313 239.758125 \r\n\" style=\"fill:none;stroke:#000000;stroke-linecap:square;stroke-linejoin:miter;stroke-width:0.8;\"/>\r\n   </g>\r\n   <g id=\"patch_6\">\r\n    <path d=\"M 68.070312 22.318125 \r\nL 402.870313 22.318125 \r\n\" style=\"fill:none;stroke:#000000;stroke-linecap:square;stroke-linejoin:miter;stroke-width:0.8;\"/>\r\n   </g>\r\n   <g id=\"text_14\">\r\n    <!-- Single Signal -->\r\n    <defs>\r\n     <path d=\"M 53.515625 70.515625 \r\nL 53.515625 60.890625 \r\nQ 47.90625 63.578125 42.921875 64.890625 \r\nQ 37.9375 66.21875 33.296875 66.21875 \r\nQ 25.25 66.21875 20.875 63.09375 \r\nQ 16.5 59.96875 16.5 54.203125 \r\nQ 16.5 49.359375 19.40625 46.890625 \r\nQ 22.3125 44.4375 30.421875 42.921875 \r\nL 36.375 41.703125 \r\nQ 47.40625 39.59375 52.65625 34.296875 \r\nQ 57.90625 29 57.90625 20.125 \r\nQ 57.90625 9.515625 50.796875 4.046875 \r\nQ 43.703125 -1.421875 29.984375 -1.421875 \r\nQ 24.8125 -1.421875 18.96875 -0.25 \r\nQ 13.140625 0.921875 6.890625 3.21875 \r\nL 6.890625 13.375 \r\nQ 12.890625 10.015625 18.65625 8.296875 \r\nQ 24.421875 6.59375 29.984375 6.59375 \r\nQ 38.421875 6.59375 43.015625 9.90625 \r\nQ 47.609375 13.234375 47.609375 19.390625 \r\nQ 47.609375 24.75 44.3125 27.78125 \r\nQ 41.015625 30.8125 33.5 32.328125 \r\nL 27.484375 33.5 \r\nQ 16.453125 35.6875 11.515625 40.375 \r\nQ 6.59375 45.0625 6.59375 53.421875 \r\nQ 6.59375 63.09375 13.40625 68.65625 \r\nQ 20.21875 74.21875 32.171875 74.21875 \r\nQ 37.3125 74.21875 42.625 73.28125 \r\nQ 47.953125 72.359375 53.515625 70.515625 \r\nz\r\n\" id=\"DejaVuSans-83\"/>\r\n     <path id=\"DejaVuSans-32\"/>\r\n    </defs>\r\n    <g transform=\"translate(196.685938 16.318125)scale(0.12 -0.12)\">\r\n     <use xlink:href=\"#DejaVuSans-83\"/>\r\n     <use x=\"63.476562\" xlink:href=\"#DejaVuSans-105\"/>\r\n     <use x=\"91.259766\" xlink:href=\"#DejaVuSans-110\"/>\r\n     <use x=\"154.638672\" xlink:href=\"#DejaVuSans-103\"/>\r\n     <use x=\"218.115234\" xlink:href=\"#DejaVuSans-108\"/>\r\n     <use x=\"245.898438\" xlink:href=\"#DejaVuSans-101\"/>\r\n     <use x=\"307.421875\" xlink:href=\"#DejaVuSans-32\"/>\r\n     <use x=\"339.208984\" xlink:href=\"#DejaVuSans-83\"/>\r\n     <use x=\"402.685547\" xlink:href=\"#DejaVuSans-105\"/>\r\n     <use x=\"430.46875\" xlink:href=\"#DejaVuSans-103\"/>\r\n     <use x=\"493.945312\" xlink:href=\"#DejaVuSans-110\"/>\r\n     <use x=\"557.324219\" xlink:href=\"#DejaVuSans-97\"/>\r\n     <use x=\"618.603516\" xlink:href=\"#DejaVuSans-108\"/>\r\n    </g>\r\n   </g>\r\n  </g>\r\n </g>\r\n <defs>\r\n  <clipPath id=\"pe0d830b6d5\">\r\n   <rect height=\"217.44\" width=\"334.8\" x=\"68.070312\" y=\"22.318125\"/>\r\n  </clipPath>\r\n </defs>\r\n</svg>\r\n",
      "image/png": "[encoded data removed]"
     },
     "metadata": {
      "needs_background": "light"
     }
    }
   ],
   "source": [
    "# Complete Task 1 here\n",
    "plt.plot(t, Signal_Database[0], marker = \"x\")\n",
    "plt.xlim([0, 0.01])\n",
    "plt.xlabel(\"Time\")\n",
    "plt.ylabel(\"Wavelength\")\n",
    "plt.title(\"Single Signal\")\n",
    "plt.grid()"
   ]
  },
  {
   "cell_type": "markdown",
   "metadata": {
    "collapsed": false
   },
   "source": [
    "#### Task-2  (5 points): \n",
    "Collect ideas how you want to recover the digit from the signal. This step is called brainstorming. I want to hear YOUR ideas, not what you found on the Internet. Provide a list of 5 different ideas on how to recover the digit. Keep in mind that you will have to implement your ideas in Python, so ideas like \"train your ear by listening to sounds of known digits and then listen to a sound of an unknown digit and decide which one it was\" will not work. You need to use features that are quantifiable. \n",
    "\n",
    "In the step of brainstorming, everyone contributes and you collect ideas without critizising or discussing them. Once you have collected \"enough\" ideas, describe the five best."
   ]
  },
  {
   "cell_type": "markdown",
   "metadata": {
    "collapsed": false
   },
   "source": [
    "**YOUR ANSWER GOES HERE**"
   ]
  },
  {
   "source": [
    " Idea 1: Find the y values when the phase shifts = 0 for each digit. Then look through random values of the Signal_Database list for a value that is equal to one the the values where the phase shifts = 0, determining which digit was pressed.\n",
    "\n",
    "Idea 2: Similar to Idea 1 except insted of looking for a value that is equal to one of the values where the phase shift = 0. We will instead look for values in a small range of the control values. This will accomodate more for noise but be less accurate. However, I have a sneaking suspision that he bit rate will mess up idea 1 anyway since the values won't be exactly the same since the bit rate isn't infinite.\n",
    "\n",
    "Idea 3: Write a function tests the frequency amounts for each digit(12, 11 of which need testing, since if it's not the first 11 it must be the twelth) with every possible phase shift combination (4,000,000 all will be tested because taking one off this 4 million will only save us 11 calculations, whereas every digit we don't have to test saves us 4,000,000 calculations. This save will come in real handy when we need to calculate all 10000 rows.) elif statements will be used so it doesn't continue to calculate if it found a number that works, which should approximatly half calculation time. Calculate the equation for yq with every possible combination of digit and frequency with a given value t (44,000,000 calculations max). Compare all of the values to the actual yq equation value until one comes out to be very close to correct or exactly correct.\n",
    "\n",
    "Idea 4: Reverse engineer the equation for y to make one side of the equation be frequency 1 + frequency 2 and the other side be the rest of the equation. Test the second side of the equation with every phase shift combination and a given value t. Run this until you the first side of the equation equals a possible frequency 1 + frequency 2 combination that results in a digit. (Tested, does not work becasue reverse engineering the equation proves to be impossible or atleast above my knowledge.)\n",
    "\n",
    "Idea 5: Find the value of the signal at t = 0, so the equation becomes y = A(cos(phase shift 1) + cos(phase shift 2)), use this to conditionally select all possible options of phase shift 1 and phase shift 2 where the sum of their cosines equals y/A. Test every one of these phase shift combinations with each digits two frequency values until the numbers match up, use the frequencies of the matching graphs to find the digit pressed."
   ],
   "cell_type": "markdown",
   "metadata": {
    "collapsed": false
   }
  },
  {
   "cell_type": "markdown",
   "metadata": {
    "collapsed": false
   },
   "source": [
    "#### Task-3  (10 points): \n",
    "Implement an algorithm that correctly decodes the digit from a given signal. Before you get started, you need to describe which approach from your list you implement. Also, for each step, provide comments.\n",
    "\n",
    "If you want to, each team member can implement a separate approach and you can then compare and discuss results. When using concepts learned throughout the semester, refer to them and use the same \"language\".\n",
    "\n",
    "I need to be able to follow your code and understand what you intend to do. If your approach does not work, I still want to hear about it. Tell me what you learned while you were implementing your ideas and why your approach did not / cannot work.\n",
    "\n",
    "The successful completion of this task includes the demonstration of each digit (and *, #) being decoded correctly."
   ]
  },
  {
   "cell_type": "code",
   "execution_count": 8,
   "metadata": {
    "collapsed": false,
    "tags": []
   },
   "outputs": [],
   "source": [
    "# COMPLETE TASK-3 HERE\n",
    "#We chose to go with Idea 5 because it seemed like the easiest idea and also the one that would give the best results\n",
    "all_phi = np.arange(0,2*np.pi,np.pi/1000) #define all possible phase shifts\n",
    "phase_shift_1_database = [] #Creating empty lists to append values into later\n",
    "phase_shift_2_database = []\n",
    "one = [1209, 697] #The frequency values of every digit\n",
    "two = [1336, 697]\n",
    "three = [1477, 697]\n",
    "four = [1209, 770]\n",
    "five = [1336, 770]\n",
    "six = [1477, 770]\n",
    "seven = [1209, 852]\n",
    "eight = [1336, 852]\n",
    "nine = [1477, 852]\n",
    "asterisk = [1209, 941]\n",
    "zero = [1336, 941]\n",
    "hashtag = [1477, 941]\n",
    "digit_list = [one, two, three, four, five, six, seven, eight, nine, asterisk, zero, hashtag] #A list containing every list of the frequency values of every digit\n",
    "def FrequencyFinder(signal, yRangeErrorMargin, signalPredictionErrorMargin):\n",
    "    yq = signal[0] #Getting the signal value at t=0, since everything except the phase shifts are multiplied by t, this makes the equation simply A*(cos(phase shift 1) + cos(phase shift 2))\n",
    "    y = (yq/(2**(B-1))) #Reverting the yq value back into the originial y-value\n",
    "    y= y/A #divide the amplitude to get the equation y/A = cos(phase shift 1) + cos(phase shift 2)\n",
    "    yRange = [y-yRangeErrorMargin, y+yRangeErrorMargin] #Setting a very small range for conditional statements since the values will not be exact\n",
    "    for phaseShiftOne in all_phi: #the two for loops are for getting every possible combination of phase shifts from the set of all_phi\n",
    "        cosOne = np.cos(phaseShiftOne)\n",
    "        for phaseShiftTwo in all_phi:\n",
    "           cosTwo = np.cos(phaseShiftTwo)\n",
    "           if (cosOne + cosTwo) >= yRange[0] and (cosOne + cosTwo) <= yRange[1]: #This conditional statement checks to see if cos(phaseShift1) + cos(phaseShiftTwo) = y/A\n",
    "                phase_shift_1_database.append(phaseShiftOne)\n",
    "                phase_shift_2_database.append(phaseShiftTwo)\n",
    "    for digit in digit_list: #Gets the frequencies for digit b\n",
    "        freq_1 = digit[0]\n",
    "        freq_2 = digit[1]\n",
    "        for phaseShiftCombo in range (len(phase_shift_1_database)): #Sets phase_shift_1 and phase_shift_2 to the possible phase shift values for every b\n",
    "            phase_shift_1 = phase_shift_1_database[phaseShiftCombo]\n",
    "            phase_shift_2 = phase_shift_2_database[phaseShiftCombo]\n",
    "            test_value = (A*np.cos(2*np.pi*t*freq_1 + phase_shift_1)) + (A*np.cos(2*np.pi*t*freq_2 + phase_shift_2)) #calculates a list of y values for every possible phase shift value for every b\n",
    "            test_value_q = (2**(B-1))*test_value #converts the y value back into a yq value\n",
    "            matched_positions = 0 #matched_positions is set to zero before checking how many values of test_value_q and signal are equal or very close to each other so that the amount of answers can be recorded in order to break the statement at a certain value\n",
    "            for x in range(8000):\n",
    "                if (test_value_q[x] >= (signal[x]-signalPredictionErrorMargin)) and (test_value_q[x] <= (signal[x]+signalPredictionErrorMargin)): #Checks if the value of test_value_q is equal to the value of signal for each value in the lists\n",
    "                    matched_positions+=1 #Records the write answers\n",
    "                    if matched_positions == 7000: #Breaks the if statement if c goes over 7000 because if the value is over 7000 then they are probably the same function, we will see how often that is correct in the next task\n",
    "                        if digit == one: #Returns the digit prediction for comparison with the actual digit pressed\n",
    "                            return('1')\n",
    "                        elif digit == two:\n",
    "                            return('2')\n",
    "                        elif digit == three:\n",
    "                            return('3')\n",
    "                        elif digit == four:\n",
    "                           return('4')\n",
    "                        elif digit == five:\n",
    "                            return('5')\n",
    "                        elif digit == six:\n",
    "                            return('6')\n",
    "                        elif digit == seven:\n",
    "                            return('7')\n",
    "                        elif digit == eight:\n",
    "                            return('8')\n",
    "                        elif digit == nine:\n",
    "                            return('9')\n",
    "                        elif digit == asterisk:\n",
    "                            return('*')\n",
    "                        elif digit == zero:\n",
    "                            return('0')\n",
    "                        elif digit == hashtag:\n",
    "                            return('#')\n",
    "                        break\n",
    "            if matched_positions == 7000:\n",
    "                break\n",
    "        if matched_positions == 7000:\n",
    "            break\n",
    "    if matched_positions <7000:\n",
    "        print(matched_positions)\n",
    "        random = np.random.choice(['1','2', '3','4', '5', '6', '7', '8', '9', '*', '0', '#'],1)\n",
    "        return(random) #If no digit is found, chooses a random digit to slightly raise correct percentage. Also fixes errors involving the function not returning anything\n",
    "    "
   ]
  },
  {
   "cell_type": "code",
   "execution_count": 9,
   "metadata": {},
   "outputs": [
    {
     "output_type": "stream",
     "name": "stdout",
     "text": [
      "The actual digit pressed is: 1 ... the predicted digit is: 1\n",
      "The actual digit pressed is: 2 ... the predicted digit is: 2\n",
      "The actual digit pressed is: 3 ... the predicted digit is: 3\n",
      "The actual digit pressed is: 4 ... the predicted digit is: 4\n",
      "The actual digit pressed is: 5 ... the predicted digit is: 5\n",
      "The actual digit pressed is: 6 ... the predicted digit is: 6\n",
      "The actual digit pressed is: 7 ... the predicted digit is: 7\n",
      "The actual digit pressed is: 8 ... the predicted digit is: 8\n",
      "The actual digit pressed is: 9 ... the predicted digit is: 9\n",
      "The actual digit pressed is: * ... the predicted digit is: *\n",
      "The actual digit pressed is: 0 ... the predicted digit is: 0\n",
      "The actual digit pressed is: # ... the predicted digit is: #\n"
     ]
    }
   ],
   "source": [
    "#[0, 1][1, 3][2,7][3, 4][4, #][5, 0][6, 5][9, 6][10,9][13,*][14,8][23,2]...I just looked through the sd dataframe to test one of every digit. This is so I don't have to look through the dataframe everytime I want to write one of these lines\n",
    "onePred = FrequencyFinder(Signal_Database[0], .0000001, .01) #Since there is no noise we can set the error margin very low to get a large confidence value\n",
    "print('The actual digit pressed is: ' + sd['Key'][0] + ' ... the predicted digit is: ' + onePred) #prints the actual digit followed by the predicted digit\n",
    "twoPred = FrequencyFinder(Signal_Database[23], .0000001, .01)\n",
    "print('The actual digit pressed is: ' + sd['Key'][23] + ' ... the predicted digit is: ' + twoPred)\n",
    "threePred = FrequencyFinder(Signal_Database[1], .0000001, .01)\n",
    "print('The actual digit pressed is: ' + sd['Key'][1] + ' ... the predicted digit is: ' + threePred)\n",
    "fourPred = FrequencyFinder(Signal_Database[3], .0000001, .01)\n",
    "print('The actual digit pressed is: ' + sd['Key'][3] + ' ... the predicted digit is: ' + fourPred)\n",
    "fivePred = FrequencyFinder(Signal_Database[6], .0000001, .01)\n",
    "print('The actual digit pressed is: ' + sd['Key'][6] + ' ... the predicted digit is: ' + fivePred)\n",
    "sixPred = FrequencyFinder(Signal_Database[9], .0000001, .01)\n",
    "print('The actual digit pressed is: ' + sd['Key'][9] + ' ... the predicted digit is: ' + sixPred)\n",
    "sevenPred = FrequencyFinder(Signal_Database[2], .0000001, .01)\n",
    "print('The actual digit pressed is: ' + sd['Key'][2] + ' ... the predicted digit is: ' + sevenPred)\n",
    "eightPred = FrequencyFinder(Signal_Database[14], .0000001, .01)\n",
    "print('The actual digit pressed is: ' + sd['Key'][14] + ' ... the predicted digit is: ' + eightPred)\n",
    "ninePred = FrequencyFinder(Signal_Database[10], .0000001, .01)\n",
    "print('The actual digit pressed is: ' + sd['Key'][10] + ' ... the predicted digit is: ' + ninePred)\n",
    "asteriskPred = FrequencyFinder(Signal_Database[13], .0000001, .01)\n",
    "print('The actual digit pressed is: ' + sd['Key'][13] + ' ... the predicted digit is: ' + asteriskPred)\n",
    "zeroPred = FrequencyFinder(Signal_Database[5], .0000001, .01)\n",
    "print('The actual digit pressed is: ' + sd['Key'][5] + ' ... the predicted digit is: ' + zeroPred)\n",
    "hashPred = FrequencyFinder(Signal_Database[4], .0000001, .01)\n",
    "print('The actual digit pressed is: ' + sd['Key'][4] + ' ... the predicted digit is: ' + hashPred)"
   ]
  },
  {
   "cell_type": "markdown",
   "metadata": {
    "collapsed": false
   },
   "source": [
    "#### Task-4  (5 points): \n",
    "Test all 10000 signals from your data base. For each digit, state the percentage of correct determination of the number that it represents."
   ]
  },
  {
   "cell_type": "code",
   "execution_count": 17,
   "metadata": {
    "collapsed": false
   },
   "outputs": [
    {
     "output_type": "stream",
     "name": "stdout",
     "text": [
      "The actual key value is: 3 ... The predicted key value is: 3\n",
      "The actual key value is: # ... The predicted key value is: #\n",
      "The actual key value is: 0 ... The predicted key value is: 0\n",
      "The actual key value is: 6 ... The predicted key value is: 6\n",
      "The actual key value is: 9 ... The predicted key value is: 9\n",
      "The actual key value is: 7 ... The predicted key value is: 7\n",
      "The actual key value is: 5 ... The predicted key value is: 5\n",
      "The actual key value is: 5 ... The predicted key value is: 5\n",
      "The actual key value is: 1 ... The predicted key value is: 1\n",
      "The actual key value is: # ... The predicted key value is: #\n",
      "The actual key value is: * ... The predicted key value is: *\n",
      "The actual key value is: 7 ... The predicted key value is: 7\n",
      "The actual key value is: 8 ... The predicted key value is: 8\n",
      "The actual key value is: 7 ... The predicted key value is: 7\n",
      "The actual key value is: 3 ... The predicted key value is: 3\n",
      "The actual key value is: 9 ... The predicted key value is: 9\n",
      "The actual key value is: 4 ... The predicted key value is: 4\n",
      "The actual key value is: # ... The predicted key value is: #\n",
      "The actual key value is: # ... The predicted key value is: #\n",
      "The actual key value is: 8 ... The predicted key value is: 8\n",
      "The actual key value is: 2 ... The predicted key value is: 2\n",
      "The actual key value is: * ... The predicted key value is: *\n",
      "The actual key value is: 2 ... The predicted key value is: 2\n",
      "The actual key value is: 0 ... The predicted key value is: 0\n",
      "The actual key value is: # ... The predicted key value is: #\n",
      "The actual key value is: 9 ... The predicted key value is: 9\n",
      "The actual key value is: 1 ... The predicted key value is: 1\n",
      "The actual key value is: 6 ... The predicted key value is: 6\n",
      "The actual key value is: 3 ... The predicted key value is: 3\n",
      "The actual key value is: 5 ... The predicted key value is: 5\n",
      "The actual key value is: * ... The predicted key value is: *\n",
      "The actual key value is: 6 ... The predicted key value is: 6\n",
      "The actual key value is: 2 ... The predicted key value is: 2\n",
      "The actual key value is: 1 ... The predicted key value is: 1\n",
      "The actual key value is: 3 ... The predicted key value is: 3\n",
      "The actual key value is: 1 ... The predicted key value is: 1\n",
      "The actual key value is: 2 ... The predicted key value is: 2\n",
      "The actual key value is: 4 ... The predicted key value is: 4\n",
      "The actual key value is: 4 ... The predicted key value is: 4\n",
      "The actual key value is: 6 ... The predicted key value is: 6\n",
      "The actual key value is: 1 ... The predicted key value is: 1\n",
      "The actual key value is: 9 ... The predicted key value is: 9\n",
      "The actual key value is: 0 ... The predicted key value is: 0\n",
      "The actual key value is: # ... The predicted key value is: #\n",
      "The actual key value is: 3 ... The predicted key value is: 3\n",
      "The actual key value is: 7 ... The predicted key value is: 7\n",
      "The actual key value is: 7 ... The predicted key value is: 7\n",
      "The actual key value is: 2 ... The predicted key value is: 2\n",
      "The actual key value is: 5 ... The predicted key value is: 5\n",
      "The actual key value is: 4 ... The predicted key value is: 4\n",
      "The actual key value is: 1 ... The predicted key value is: 1\n",
      "The actual key value is: 2 ... The predicted key value is: 2\n",
      "The actual key value is: 8 ... The predicted key value is: 8\n",
      "The actual key value is: 8 ... The predicted key value is: 8\n",
      "The actual key value is: 4 ... The predicted key value is: 4\n",
      "The actual key value is: 6 ... The predicted key value is: 6\n",
      "The actual key value is: 5 ... The predicted key value is: 5\n",
      "The actual key value is: * ... The predicted key value is: *\n",
      "The actual key value is: 5 ... The predicted key value is: 5\n",
      "The actual key value is: 1 ... The predicted key value is: 1\n",
      "The actual key value is: 4 ... The predicted key value is: 4\n",
      "The actual key value is: 2 ... The predicted key value is: 2\n",
      "The actual key value is: 0 ... The predicted key value is: 0\n",
      "The actual key value is: 1 ... The predicted key value is: 1\n",
      "The actual key value is: 5 ... The predicted key value is: 5\n",
      "The actual key value is: 7 ... The predicted key value is: 7\n",
      "The actual key value is: 4 ... The predicted key value is: 4\n",
      "The actual key value is: # ... The predicted key value is: #\n",
      "The actual key value is: 4 ... The predicted key value is: 4\n",
      "The actual key value is: 0 ... The predicted key value is: 0\n",
      "The actual key value is: 6 ... The predicted key value is: 6\n",
      "The actual key value is: # ... The predicted key value is: #\n",
      "The actual key value is: * ... The predicted key value is: *\n",
      "The actual key value is: 3 ... The predicted key value is: 3\n",
      "The actual key value is: 1 ... The predicted key value is: 1\n",
      "The actual key value is: 7 ... The predicted key value is: 7\n",
      "The actual key value is: 1 ... The predicted key value is: 1\n",
      "The actual key value is: 5 ... The predicted key value is: 5\n",
      "The actual key value is: 6 ... The predicted key value is: 6\n",
      "The actual key value is: 1 ... The predicted key value is: 1\n",
      "The actual key value is: 6 ... The predicted key value is: 6\n",
      "The actual key value is: 0 ... The predicted key value is: 0\n",
      "The actual key value is: 6 ... The predicted key value is: 6\n",
      "The actual key value is: 2 ... The predicted key value is: 2\n",
      "The actual key value is: 6 ... The predicted key value is: 6\n",
      "The actual key value is: 2 ... The predicted key value is: 2\n",
      "The actual key value is: * ... The predicted key value is: *\n",
      "The actual key value is: 0 ... The predicted key value is: 0\n",
      "The actual key value is: # ... The predicted key value is: #\n",
      "The actual key value is: # ... The predicted key value is: #\n",
      "The actual key value is: 2 ... The predicted key value is: 2\n",
      "The actual key value is: * ... The predicted key value is: *\n",
      "The actual key value is: * ... The predicted key value is: *\n",
      "The actual key value is: 3 ... The predicted key value is: 3\n",
      "The actual key value is: 6 ... The predicted key value is: 6\n",
      "The actual key value is: 5 ... The predicted key value is: 5\n",
      "The actual key value is: 6 ... The predicted key value is: 6\n",
      "The actual key value is: 2 ... The predicted key value is: 2\n",
      "The actual key value is: 1 ... The predicted key value is: 1\n",
      "The actual key value is: 4 ... The predicted key value is: 4\n",
      "100.0\n"
     ]
    }
   ],
   "source": [
    "# COMPLETE TASK-4 HERE\n",
    "#I am 99% sure that this will come out to have atleast 99% accuracy in 10000 attempts, but unfortunately my computer is not good enough to do this function 10000 times. By my calculations it would take around 50 hours to complete. Because of this I will only be showing 100 values, however if you would like you can change the numOfTestValues integer to 10000 if you would like to see it's actual percentage correct in a sample size of 10000\n",
    "sdRowValues = np.arange(0, 10000, 1) #Getting a numpy array of all row values in sd to get a random sample of them later\n",
    "numOfTestValues = 100 #Number of values we will be testing\n",
    "test_Values = np.random.choice(sdRowValues, size = numOfTestValues, replace = False) #Getting a random integer list with length numOfTestValues\n",
    "predictionList = [] #Empty list for appending whether the prediction waas true or false\n",
    "amountCorrect = 0 #Amount of predictions that are correct must be set to zero at the beginning\n",
    "amountFalse = 0 #Amount of predictions that are false must be set to zero at the beginning\n",
    "for S in test_Values:\n",
    "    actualDigit = sd['Key'][S] #Getting the actual digit that was pressed\n",
    "    predDigit = FrequencyFinder(Signal_Database[S], 0.000001, 0.01) #Using the function from task-3 to predict the key pressed, again using low error margin values since there is no noise\n",
    "    predBool = False #We assume that the prediction is false at first\n",
    "    print('The actual key value is: ' + actualDigit + ' ... The predicted key value is: ' + predDigit) #Print what the actual key pressed is and what the predicted key is. This is more to keep track of how far into the calculation you are. If this stops showing up you know that the cell crashed.\n",
    "    if actualDigit == predDigit: #If the actual key is the same as the predicted Key predBool is set to true\n",
    "        predBool = True\n",
    "    predictionList.append(predBool) #The value of predBool is then appended to the predictionList list\n",
    "for x in predictionList: #runs the below conditional statements for every value in predictionList (which should be the same length as numOfTestValues)\n",
    "    if x: #adds 1 to the amountCorrect int every time x is True\n",
    "        amountCorrect+=1\n",
    "percentageCorrect = (amountCorrect/len(predictionList))*100 #Returns the percentage of correct answers\n",
    "print(percentageCorrect) #prints the percentage of correct answers"
   ]
  },
  {
   "source": [
    "As you can see the percentage correct is 100% out of 100 tries. If you would like to test it more throughly you can but I just cannot since my computer is not very good"
   ],
   "cell_type": "markdown",
   "metadata": {}
  },
  {
   "cell_type": "markdown",
   "metadata": {
    "collapsed": false
   },
   "source": [
    "**YOUR ANSWER GOES HERE**\n",
    "\n",
    "Since the total correct percentage is 100% we know that the correct percentage for each digit is also 100%"
   ]
  },
  {
   "cell_type": "markdown",
   "metadata": {
    "collapsed": false
   },
   "source": [
    "#### Task-5 (5 points):\n",
    "In a real-world system the signals being decoded will be corrupted by noise. In this task you are testing to what extend your approach is robost to noise. \n",
    "\n",
    "You are basically repeating **Task-4** but before you are starting your algorithm, you are adding noise to your signal.\n",
    "\n",
    "noise = A*np.random.randn(1, 1000)\n",
    "\n",
    "creates a one-dimensional array of size 1x1000 with normally distributed values. By making the amplitude A larger or smaller you adjust the noise amplitude.\n",
    "\n",
    "How robost is your algorithm to noise? How did you test it? "
   ]
  },
  {
   "cell_type": "code",
   "execution_count": 7,
   "metadata": {},
   "outputs": [],
   "source": [
    "def FreqFinderWithNoise(signal, Amp, yErrorMargin, signalPredErrorMargin):\n",
    "    noise = Amp*np.random.randn(1, 8000)\n",
    "    signal_with_noise = []\n",
    "    for x in range (8000):\n",
    "        S = signal[x] + noise[0,x]\n",
    "        signal_with_noise.append(S)\n",
    "    signal_with_noise = np.array(signal_with_noise)\n",
    "    digitPred = FrequencyFinder(signal_with_noise, yErrorMargin, signalPredErrorMargin)\n",
    "    return(digitPred)"
   ]
  },
  {
   "cell_type": "code",
   "execution_count": 14,
   "metadata": {
    "collapsed": false,
    "tags": []
   },
   "outputs": [
    {
     "output_type": "stream",
     "name": "stdout",
     "text": [
      "The actual key value is: 9 ... The predicted key value is: 9\n",
      "The actual key value is: 9 ... The predicted key value is: 9\n",
      "The actual key value is: 2 ... The predicted key value is: 2\n"
     ]
    },
    {
     "output_type": "error",
     "ename": "KeyboardInterrupt",
     "evalue": "",
     "traceback": [
      "\u001b[1;31m---------------------------------------------------------------------------\u001b[0m",
      "\u001b[1;31mKeyboardInterrupt\u001b[0m                         Traceback (most recent call last)",
      "\u001b[1;32m<ipython-input-14-3c3c5f1eda39>\u001b[0m in \u001b[0;36m<module>\u001b[1;34m\u001b[0m\n\u001b[0;32m      9\u001b[0m \u001b[1;32mfor\u001b[0m \u001b[0mtest_value\u001b[0m \u001b[1;32min\u001b[0m \u001b[0mtest_Values\u001b[0m\u001b[1;33m:\u001b[0m\u001b[1;33m\u001b[0m\u001b[1;33m\u001b[0m\u001b[0m\n\u001b[0;32m     10\u001b[0m     \u001b[0mactualDigit\u001b[0m \u001b[1;33m=\u001b[0m \u001b[0msd\u001b[0m\u001b[1;33m[\u001b[0m\u001b[1;34m'Key'\u001b[0m\u001b[1;33m]\u001b[0m\u001b[1;33m[\u001b[0m\u001b[0mtest_value\u001b[0m\u001b[1;33m]\u001b[0m\u001b[1;33m\u001b[0m\u001b[1;33m\u001b[0m\u001b[0m\n\u001b[1;32m---> 11\u001b[1;33m     \u001b[0mpredDigit\u001b[0m \u001b[1;33m=\u001b[0m \u001b[0mFreqFinderWithNoise\u001b[0m\u001b[1;33m(\u001b[0m\u001b[0mSignal_Database\u001b[0m\u001b[1;33m[\u001b[0m\u001b[0mtest_value\u001b[0m\u001b[1;33m]\u001b[0m\u001b[1;33m,\u001b[0m \u001b[0mAmplitude\u001b[0m\u001b[1;33m,\u001b[0m \u001b[1;36m.0001\u001b[0m\u001b[1;33m,\u001b[0m \u001b[1;36m500\u001b[0m\u001b[1;33m)\u001b[0m \u001b[1;31m#Larger error margins are used since noise has been added\u001b[0m\u001b[1;33m\u001b[0m\u001b[1;33m\u001b[0m\u001b[0m\n\u001b[0m\u001b[0;32m     12\u001b[0m     \u001b[0mpredBool\u001b[0m \u001b[1;33m=\u001b[0m \u001b[1;32mFalse\u001b[0m\u001b[1;33m\u001b[0m\u001b[1;33m\u001b[0m\u001b[0m\n\u001b[0;32m     13\u001b[0m     \u001b[0mprint\u001b[0m\u001b[1;33m(\u001b[0m\u001b[1;34m'The actual key value is: '\u001b[0m \u001b[1;33m+\u001b[0m \u001b[0mactualDigit\u001b[0m \u001b[1;33m+\u001b[0m \u001b[1;34m' ... The predicted key value is: '\u001b[0m \u001b[1;33m+\u001b[0m \u001b[0mpredDigit\u001b[0m\u001b[1;33m)\u001b[0m \u001b[1;31m#Print what the actual key pressed is and what the predicted key is. This is more to keep track of how far into the calculation you are. If this stops showing up you know that the cell crashed.\u001b[0m\u001b[1;33m\u001b[0m\u001b[1;33m\u001b[0m\u001b[0m\n",
      "\u001b[1;32m<ipython-input-7-bf0df82447de>\u001b[0m in \u001b[0;36mFreqFinderWithNoise\u001b[1;34m(signal, Amp, yErrorMargin, signalPredErrorMargin)\u001b[0m\n\u001b[0;32m      6\u001b[0m         \u001b[0msignal_with_noise\u001b[0m\u001b[1;33m.\u001b[0m\u001b[0mappend\u001b[0m\u001b[1;33m(\u001b[0m\u001b[0mS\u001b[0m\u001b[1;33m)\u001b[0m\u001b[1;33m\u001b[0m\u001b[1;33m\u001b[0m\u001b[0m\n\u001b[0;32m      7\u001b[0m     \u001b[0msignal_with_noise\u001b[0m \u001b[1;33m=\u001b[0m \u001b[0mnp\u001b[0m\u001b[1;33m.\u001b[0m\u001b[0marray\u001b[0m\u001b[1;33m(\u001b[0m\u001b[0msignal_with_noise\u001b[0m\u001b[1;33m)\u001b[0m\u001b[1;33m\u001b[0m\u001b[1;33m\u001b[0m\u001b[0m\n\u001b[1;32m----> 8\u001b[1;33m     \u001b[0mdigitPred\u001b[0m \u001b[1;33m=\u001b[0m \u001b[0mFrequencyFinder\u001b[0m\u001b[1;33m(\u001b[0m\u001b[0msignal_with_noise\u001b[0m\u001b[1;33m,\u001b[0m \u001b[0myErrorMargin\u001b[0m\u001b[1;33m,\u001b[0m \u001b[0msignalPredErrorMargin\u001b[0m\u001b[1;33m)\u001b[0m\u001b[1;33m\u001b[0m\u001b[1;33m\u001b[0m\u001b[0m\n\u001b[0m\u001b[0;32m      9\u001b[0m     \u001b[1;32mreturn\u001b[0m\u001b[1;33m(\u001b[0m\u001b[0mdigitPred\u001b[0m\u001b[1;33m)\u001b[0m\u001b[1;33m\u001b[0m\u001b[1;33m\u001b[0m\u001b[0m\n",
      "\u001b[1;32m<ipython-input-10-70d8df583a28>\u001b[0m in \u001b[0;36mFrequencyFinder\u001b[1;34m(signal, yRangeErrorMargin, signalPredictionErrorMargin)\u001b[0m\n\u001b[0;32m     34\u001b[0m             \u001b[0mphase_shift_1\u001b[0m \u001b[1;33m=\u001b[0m \u001b[0mphase_shift_1_database\u001b[0m\u001b[1;33m[\u001b[0m\u001b[0mphaseShiftCombo\u001b[0m\u001b[1;33m]\u001b[0m\u001b[1;33m\u001b[0m\u001b[1;33m\u001b[0m\u001b[0m\n\u001b[0;32m     35\u001b[0m             \u001b[0mphase_shift_2\u001b[0m \u001b[1;33m=\u001b[0m \u001b[0mphase_shift_2_database\u001b[0m\u001b[1;33m[\u001b[0m\u001b[0mphaseShiftCombo\u001b[0m\u001b[1;33m]\u001b[0m\u001b[1;33m\u001b[0m\u001b[1;33m\u001b[0m\u001b[0m\n\u001b[1;32m---> 36\u001b[1;33m             \u001b[0mtest_value\u001b[0m \u001b[1;33m=\u001b[0m \u001b[1;33m(\u001b[0m\u001b[0mA\u001b[0m\u001b[1;33m*\u001b[0m\u001b[0mnp\u001b[0m\u001b[1;33m.\u001b[0m\u001b[0mcos\u001b[0m\u001b[1;33m(\u001b[0m\u001b[1;36m2\u001b[0m\u001b[1;33m*\u001b[0m\u001b[0mnp\u001b[0m\u001b[1;33m.\u001b[0m\u001b[0mpi\u001b[0m\u001b[1;33m*\u001b[0m\u001b[0mt\u001b[0m\u001b[1;33m*\u001b[0m\u001b[0mfreq_1\u001b[0m \u001b[1;33m+\u001b[0m \u001b[0mphase_shift_1\u001b[0m\u001b[1;33m)\u001b[0m\u001b[1;33m)\u001b[0m \u001b[1;33m+\u001b[0m \u001b[1;33m(\u001b[0m\u001b[0mA\u001b[0m\u001b[1;33m*\u001b[0m\u001b[0mnp\u001b[0m\u001b[1;33m.\u001b[0m\u001b[0mcos\u001b[0m\u001b[1;33m(\u001b[0m\u001b[1;36m2\u001b[0m\u001b[1;33m*\u001b[0m\u001b[0mnp\u001b[0m\u001b[1;33m.\u001b[0m\u001b[0mpi\u001b[0m\u001b[1;33m*\u001b[0m\u001b[0mt\u001b[0m\u001b[1;33m*\u001b[0m\u001b[0mfreq_2\u001b[0m \u001b[1;33m+\u001b[0m \u001b[0mphase_shift_2\u001b[0m\u001b[1;33m)\u001b[0m\u001b[1;33m)\u001b[0m \u001b[1;31m#calculates a list of y values for every possible phase shift value for every b\u001b[0m\u001b[1;33m\u001b[0m\u001b[1;33m\u001b[0m\u001b[0m\n\u001b[0m\u001b[0;32m     37\u001b[0m             \u001b[0mtest_value_q\u001b[0m \u001b[1;33m=\u001b[0m \u001b[1;33m(\u001b[0m\u001b[1;36m2\u001b[0m\u001b[1;33m**\u001b[0m\u001b[1;33m(\u001b[0m\u001b[0mB\u001b[0m\u001b[1;33m-\u001b[0m\u001b[1;36m1\u001b[0m\u001b[1;33m)\u001b[0m\u001b[1;33m)\u001b[0m\u001b[1;33m*\u001b[0m\u001b[0mtest_value\u001b[0m \u001b[1;31m#converts the y value back into a yq value\u001b[0m\u001b[1;33m\u001b[0m\u001b[1;33m\u001b[0m\u001b[0m\n\u001b[0;32m     38\u001b[0m             \u001b[0mmatched_positions\u001b[0m \u001b[1;33m=\u001b[0m \u001b[1;36m0\u001b[0m \u001b[1;31m#matched_positions is set to zero before checking how many values of test_value_q and signal are equal or very close to each other so that the amount of answers can be recorded in order to break the statement at a certain value\u001b[0m\u001b[1;33m\u001b[0m\u001b[1;33m\u001b[0m\u001b[0m\n",
      "\u001b[1;31mKeyboardInterrupt\u001b[0m: "
     ]
    }
   ],
   "source": [
    "# COMPLETE TASK-5 HERE\n",
    "sdRowValues = np.arange(0, 10000, 1) #Getting a numpy array of all row values in sd to get a random sample of them later\n",
    "numOfTestValues = 100 #Number of values we will be testing\n",
    "test_Values = np.random.choice(sdRowValues, size = numOfTestValues, replace = False) #Getting a random integer list with length numOfTestValues\n",
    "predictionList = [] #Empty list for appending whether the prediction waas true or false\n",
    "amountCorrect = 0 #Amount of predictions that are correct must be set to zero at the beginning\n",
    "amountFalse = 0 #Amount of predictions that are false must be set to zero at the beginning\n",
    "Amplitude = 1 #Amplitude of the noise. Not named A to avoid errors since the variable A is already used in the FrequencyFinder function\n",
    "for test_value in test_Values:\n",
    "    actualDigit = sd['Key'][test_value]\n",
    "    predDigit = FreqFinderWithNoise(Signal_Database[test_value], Amplitude, .0001, 10) #Larger error margins are used since noise has been added\n",
    "    predBool = False\n",
    "    print('The actual key value is: ' + actualDigit + ' ... The predicted key value is: ' + predDigit) #Print what the actual key pressed is and what the predicted key is. This is more to keep track of how far into the calculation you are. If this stops showing up you know that the cell crashed.\n",
    "    if actualDigit == predDigit:\n",
    "        predBool = True\n",
    "    predictionList.append(predBool)\n",
    "for prediction in predictionList:\n",
    "    if prediction:\n",
    "        amountCorrect+=1\n",
    "percentageCorrect = (amountCorrect/len(predictionList))*100\n",
    "print('The percentage of correct predictions is: ' + str(percentageCorrect) + ' for a noise amplitude of: ' + str(Amplitude))"
   ]
  },
  {
   "source": [
    "Task-5 takes even longer to predict, but seems to yield a pretty good percentage at a low amplitude(.1). Allthough a higher error margin must be used in order for the noise to not matter. The higher the amplitude the higher the error margins have to be. This higher the error margins the lower the accuracy, but the accuracy still seems to be very high until you get to extemly large amplitudes. For an amplitude of 1 and a signalPredErrorMargin of 50 percentagecorrect is still 100. At an amplitude of 10 the function fails to predict the digit. Any amplitude over 1 gets really dicey with the predictions\n",
    "\n",
    "We tested our algorithms with different amounts of noise by changing the amplitude function. For us, when we changed the amplitude function we also had to change the margin of error for saying cos(phaseShiftOne) + cos(phaseShiftTwo) = signal[0] as well as the margin of error for the signalPredErrorMargin since the signal would be less like the original signal. For example, with no noise you can set the margin or errors to extremly low, something around 0.000000001 will most likely work, since they are going to be extremly close to the same number, but when adding noise with an amplitude of just two, the signalPredErrorMargin was increased to 500 since the signal gets very different very quickly"
   ],
   "cell_type": "markdown",
   "metadata": {
    "collapsed": false
   }
  }
 ],
 "metadata": {
  "kernelspec": {
   "name": "python3",
   "display_name": "Python 3.7.8 64-bit"
  },
  "language_info": {
   "codemirror_mode": {
    "name": "ipython",
    "version": 3
   },
   "file_extension": ".py",
   "mimetype": "text/x-python",
   "name": "python",
   "nbconvert_exporter": "python",
   "pygments_lexer": "ipython3",
   "version": "3.7.8"
  },
  "interpreter": {
   "hash": "57baa5815c940fdaff4d14510622de9616cae602444507ba5d0b6727c008cbd6"
  }
 },
 "nbformat": 4,
 "nbformat_minor": 4
}